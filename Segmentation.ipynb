{
 "cells": [
  {
   "cell_type": "markdown",
   "id": "444ae33e-d344-4efc-8880-0c16633e1933",
   "metadata": {},
   "source": [
    "## Analyse des clients du site d'e-commerce Olist"
   ]
  },
  {
   "cell_type": "code",
   "execution_count": 1,
   "id": "4076661d-bd9c-4fe9-827c-19fddd65fa94",
   "metadata": {},
   "outputs": [],
   "source": [
    "import warnings\n",
    "warnings.filterwarnings(\"ignore\")\n",
    "\n",
    "import pandas as pd\n",
    "import numpy as np\n",
    "import matplotlib.pyplot as plt\n",
    "import seaborn as sns\n",
    "import gc\n",
    "import datetime\n",
    "import random\n",
    "from sklearn.cluster import KMeans\n",
    "from yellowbrick.cluster import KElbowVisualizer\n",
    "from sklearn.preprocessing import StandardScaler\n",
    "from sklearn.decomposition import PCA\n",
    "from yellowbrick.cluster import SilhouetteVisualizer\n",
    "from yellowbrick.cluster import intercluster_distance\n",
    "from sklearn.metrics import silhouette_score, davies_bouldin_score, adjusted_rand_score\n",
    "from kmodes.kprototypes import KPrototypes\n",
    "import gc\n",
    "\n",
    "import matplotlib.pyplot as plt\n",
    "from matplotlib.collections import LineCollection\n",
    "import numpy as np\n",
    "import pandas as pd\n",
    "\n",
    "def display_circles(pcs, n_comp, pca, axis_ranks, labels=None, label_rotation=0, lims=None):\n",
    "    for d1, d2 in axis_ranks: # On affiche les 3 premiers plans factoriels, donc les 6 premières composantes\n",
    "        if d2 < n_comp:\n",
    "\n",
    "            # initialisation de la figure\n",
    "            fig, ax = plt.subplots(figsize=(7,6))\n",
    "\n",
    "            # détermination des limites du graphique\n",
    "            if lims is not None :\n",
    "                xmin, xmax, ymin, ymax = lims\n",
    "            elif pcs.shape[1] < 30 :\n",
    "                xmin, xmax, ymin, ymax = -1, 1, -1, 1\n",
    "            else :\n",
    "                xmin, xmax, ymin, ymax = min(pcs[d1,:]), max(pcs[d1,:]), min(pcs[d2,:]), max(pcs[d2,:])\n",
    "\n",
    "            # affichage des flèches\n",
    "            # s'il y a plus de 30 flèches, on n'affiche pas le triangle à leur extrémité\n",
    "            if pcs.shape[1] < 30 :\n",
    "                plt.quiver(np.zeros(pcs.shape[1]), np.zeros(pcs.shape[1]),\n",
    "                   pcs[d1,:], pcs[d2,:], \n",
    "                   angles='xy', scale_units='xy', scale=1, color=\"grey\")\n",
    "                # (voir la doc : https://matplotlib.org/api/_as_gen/matplotlib.pyplot.quiver.html)\n",
    "            else:\n",
    "                lines = [[[0,0],[x,y]] for x,y in pcs[[d1,d2]].T]\n",
    "                ax.add_collection(LineCollection(lines, axes=ax, alpha=.1, color='black'))\n",
    "            \n",
    "            # affichage des noms des variables  \n",
    "            if labels is not None:  \n",
    "                for i,(x, y) in enumerate(pcs[[d1,d2]].T):\n",
    "                    if x >= xmin and x <= xmax and y >= ymin and y <= ymax :\n",
    "                        plt.text(x, y, labels[i], fontsize='14', ha='center', va='center', rotation=label_rotation, color=\"blue\", alpha=0.5)\n",
    "            \n",
    "            # affichage du cercle\n",
    "            circle = plt.Circle((0,0), 1, facecolor='none', edgecolor='b')\n",
    "            plt.gca().add_artist(circle)\n",
    "\n",
    "            # définition des limites du graphique\n",
    "            plt.xlim(xmin, xmax)\n",
    "            plt.ylim(ymin, ymax)\n",
    "        \n",
    "            # affichage des lignes horizontales et verticales\n",
    "            plt.plot([-1, 1], [0, 0], color='grey', ls='--')\n",
    "            plt.plot([0, 0], [-1, 1], color='grey', ls='--')\n",
    "\n",
    "            # nom des axes, avec le pourcentage d'inertie expliqué\n",
    "            plt.xlabel('F{} ({}%)'.format(d1+1, round(100*pca.explained_variance_ratio_[d1],1)))\n",
    "            plt.ylabel('F{} ({}%)'.format(d2+1, round(100*pca.explained_variance_ratio_[d2],1)))\n",
    "\n",
    "            plt.title(\"Cercle des corrélations (F{} et F{})\".format(d1+1, d2+1))\n",
    "            plt.show(block=False)\n",
    "        \n",
    "def display_factorial_planes(X_projected, n_comp, pca, axis_ranks, labels=None, alpha=1, illustrative_var=None):\n",
    "    for d1,d2 in axis_ranks:\n",
    "        if d2 < n_comp:\n",
    " \n",
    "            # initialisation de la figure       \n",
    "            fig = plt.figure(figsize=(7,6))\n",
    "        \n",
    "            # affichage des points\n",
    "            if illustrative_var is None:\n",
    "                plt.scatter(X_projected[:, d1], X_projected[:, d2], alpha=alpha)\n",
    "            else:\n",
    "                illustrative_var = np.array(illustrative_var)\n",
    "                for value in np.unique(illustrative_var):\n",
    "                    selected = np.where(illustrative_var == value)\n",
    "                    plt.scatter(X_projected[selected, d1], X_projected[selected, d2], alpha=alpha, label=value)\n",
    "                plt.legend()\n",
    "\n",
    "            # affichage des labels des points\n",
    "            if labels is not None:\n",
    "                for i,(x,y) in enumerate(X_projected[:,[d1,d2]]):\n",
    "                    plt.text(x, y, labels[i],\n",
    "                              fontsize='14', ha='center',va='center') \n",
    "                \n",
    "            # détermination des limites du graphique\n",
    "            boundary = np.max(np.abs(X_projected[:, [d1,d2]])) * 1.1\n",
    "            plt.xlim([-boundary,boundary])\n",
    "            plt.ylim([-boundary,boundary])\n",
    "        \n",
    "            # affichage des lignes horizontales et verticales\n",
    "            plt.plot([-100, 100], [0, 0], color='grey', ls='--')\n",
    "            plt.plot([0, 0], [-100, 100], color='grey', ls='--')\n",
    "\n",
    "            # nom des axes, avec le pourcentage d'inertie expliqué\n",
    "            plt.xlabel('F{} ({}%)'.format(d1+1, round(100*pca.explained_variance_ratio_[d1],1)))\n",
    "            plt.ylabel('F{} ({}%)'.format(d2+1, round(100*pca.explained_variance_ratio_[d2],1)))\n",
    "\n",
    "            plt.title(\"Projection des individus (sur F{} et F{})\".format(d1+1, d2+1))\n",
    "            plt.show(block=False)\n",
    "\n",
    "def display_scree_plot(pca):\n",
    "    scree = pca.explained_variance_ratio_*100\n",
    "    plt.bar(np.arange(len(scree))+1, scree)\n",
    "    plt.plot(np.arange(len(scree))+1, scree.cumsum(),c=\"red\",marker='o')\n",
    "    plt.xlabel(\"rang de l'axe d'inertie\")\n",
    "    plt.ylabel(\"pourcentage d'inertie\")\n",
    "    plt.title(\"Eboulis des valeurs propres\")\n",
    "    plt.show(block=False)"
   ]
  },
  {
   "cell_type": "code",
   "execution_count": 2,
   "id": "c3e39e95-6cce-4f4e-a8f5-72fb8f062901",
   "metadata": {},
   "outputs": [],
   "source": [
    "sns.set_palette(\"Pastel2\")"
   ]
  },
  {
   "cell_type": "markdown",
   "id": "b581123b-d94b-46c9-96c9-b79da6ed4ccd",
   "metadata": {},
   "source": [
    "### 1. Création d'une segmentation RFM"
   ]
  },
  {
   "cell_type": "markdown",
   "id": "bd611704-4fb2-4136-b152-467b40ce6590",
   "metadata": {},
   "source": [
    "On débute l'analyse de notre base de clients par la création d'une segmentation RFM (Recency, Frequency, MonetaryValue). Ce type de segmentation est utilisé en marketing pour pouvoir découper les clients en segments actionnables et ainsi adapter les stratégies en fonction du type de client. La segmentation RFM se base sur des habitudes de consommations comme la date du dernier achat (Recency), la fréquence d'achat (Frequency) et la valeur moyenne/la somme moyenne dépensée lors d'une commande (MonetaryValue)."
   ]
  },
  {
   "cell_type": "markdown",
   "id": "903d46c7-7677-4fa0-b6b1-d2fd55ef793f",
   "metadata": {},
   "source": [
    "#### a. Informations sur les clients"
   ]
  },
  {
   "cell_type": "markdown",
   "id": "7378af32-b3a7-4a26-acf8-725bb46b81e2",
   "metadata": {},
   "source": [
    "On va commencer par extraire les informations clients pour pouvoir déterminer les premières variables de notre segmentation."
   ]
  },
  {
   "cell_type": "code",
   "execution_count": 3,
   "id": "0e792890-12da-4704-9e9f-33170546186e",
   "metadata": {},
   "outputs": [
    {
     "data": {
      "text/plain": [
       "'/Users/anissa'"
      ]
     },
     "execution_count": 3,
     "metadata": {},
     "output_type": "execute_result"
    }
   ],
   "source": [
    "%pwd"
   ]
  },
  {
   "cell_type": "code",
   "execution_count": 4,
   "id": "b40b289d-cc40-4cfd-bb2d-1027d2e0ca71",
   "metadata": {},
   "outputs": [
    {
     "name": "stdout",
     "output_type": "stream",
     "text": [
      "/Users/anissa/archive\n"
     ]
    }
   ],
   "source": [
    "%cd /Users/anissa/archive"
   ]
  },
  {
   "cell_type": "code",
   "execution_count": 5,
   "id": "d43267b4-cdfc-4c0a-9183-ed54128fc7a1",
   "metadata": {},
   "outputs": [],
   "source": [
    "df_customers = pd.read_csv(\"olist_customers_dataset.csv\")\n",
    "df_geo = pd.read_csv(\"olist_geolocation_dataset.csv\")"
   ]
  },
  {
   "cell_type": "code",
   "execution_count": 6,
   "id": "01840bca-1f86-454a-9f1c-e12559cf09db",
   "metadata": {},
   "outputs": [
    {
     "data": {
      "text/html": [
       "<div>\n",
       "<style scoped>\n",
       "    .dataframe tbody tr th:only-of-type {\n",
       "        vertical-align: middle;\n",
       "    }\n",
       "\n",
       "    .dataframe tbody tr th {\n",
       "        vertical-align: top;\n",
       "    }\n",
       "\n",
       "    .dataframe thead th {\n",
       "        text-align: right;\n",
       "    }\n",
       "</style>\n",
       "<table border=\"1\" class=\"dataframe\">\n",
       "  <thead>\n",
       "    <tr style=\"text-align: right;\">\n",
       "      <th></th>\n",
       "      <th>customer_id</th>\n",
       "      <th>customer_unique_id</th>\n",
       "      <th>customer_city</th>\n",
       "      <th>customer_latitude</th>\n",
       "      <th>customer_longitude</th>\n",
       "    </tr>\n",
       "  </thead>\n",
       "  <tbody>\n",
       "    <tr>\n",
       "      <th>0</th>\n",
       "      <td>06b8999e2fba1a1fbc88172c00ba8bc7</td>\n",
       "      <td>861eff4711a542e4b93843c6dd7febb0</td>\n",
       "      <td>franca</td>\n",
       "      <td>-20.509897</td>\n",
       "      <td>-47.397866</td>\n",
       "    </tr>\n",
       "    <tr>\n",
       "      <th>1</th>\n",
       "      <td>06b8999e2fba1a1fbc88172c00ba8bc7</td>\n",
       "      <td>861eff4711a542e4b93843c6dd7febb0</td>\n",
       "      <td>franca</td>\n",
       "      <td>-20.497396</td>\n",
       "      <td>-47.399241</td>\n",
       "    </tr>\n",
       "    <tr>\n",
       "      <th>2</th>\n",
       "      <td>06b8999e2fba1a1fbc88172c00ba8bc7</td>\n",
       "      <td>861eff4711a542e4b93843c6dd7febb0</td>\n",
       "      <td>franca</td>\n",
       "      <td>-20.510459</td>\n",
       "      <td>-47.399553</td>\n",
       "    </tr>\n",
       "    <tr>\n",
       "      <th>3</th>\n",
       "      <td>06b8999e2fba1a1fbc88172c00ba8bc7</td>\n",
       "      <td>861eff4711a542e4b93843c6dd7febb0</td>\n",
       "      <td>franca</td>\n",
       "      <td>-20.480940</td>\n",
       "      <td>-47.394161</td>\n",
       "    </tr>\n",
       "    <tr>\n",
       "      <th>4</th>\n",
       "      <td>06b8999e2fba1a1fbc88172c00ba8bc7</td>\n",
       "      <td>861eff4711a542e4b93843c6dd7febb0</td>\n",
       "      <td>franca</td>\n",
       "      <td>-20.515413</td>\n",
       "      <td>-47.398194</td>\n",
       "    </tr>\n",
       "  </tbody>\n",
       "</table>\n",
       "</div>"
      ],
      "text/plain": [
       "                        customer_id                customer_unique_id  \\\n",
       "0  06b8999e2fba1a1fbc88172c00ba8bc7  861eff4711a542e4b93843c6dd7febb0   \n",
       "1  06b8999e2fba1a1fbc88172c00ba8bc7  861eff4711a542e4b93843c6dd7febb0   \n",
       "2  06b8999e2fba1a1fbc88172c00ba8bc7  861eff4711a542e4b93843c6dd7febb0   \n",
       "3  06b8999e2fba1a1fbc88172c00ba8bc7  861eff4711a542e4b93843c6dd7febb0   \n",
       "4  06b8999e2fba1a1fbc88172c00ba8bc7  861eff4711a542e4b93843c6dd7febb0   \n",
       "\n",
       "  customer_city  customer_latitude  customer_longitude  \n",
       "0        franca         -20.509897          -47.397866  \n",
       "1        franca         -20.497396          -47.399241  \n",
       "2        franca         -20.510459          -47.399553  \n",
       "3        franca         -20.480940          -47.394161  \n",
       "4        franca         -20.515413          -47.398194  "
      ]
     },
     "execution_count": 6,
     "metadata": {},
     "output_type": "execute_result"
    }
   ],
   "source": [
    "# Add geolocation information\n",
    "df_customers = pd.merge(df_geo, df_customers,\n",
    "                        right_on=[\"customer_zip_code_prefix\",\n",
    "                                  \"customer_city\", \"customer_state\"],\n",
    "                        left_on=[\"geolocation_zip_code_prefix\",\n",
    "                                 \"geolocation_city\", \"geolocation_state\"],\n",
    "                        how=\"right\")\n",
    "df_customers.drop([\"geolocation_zip_code_prefix\", \"geolocation_city\",\n",
    "                   \"geolocation_state\"], axis=1, inplace=True)\n",
    "df_customers = df_customers[[\"customer_id\", \"customer_unique_id\",\n",
    "                             \"customer_city\", \"geolocation_lat\",\n",
    "                             \"geolocation_lng\"]]\n",
    "df_customers.columns = [\"customer_id\", \"customer_unique_id\",\n",
    "                        \"customer_city\", \"customer_latitude\",\n",
    "                        \"customer_longitude\"]\n",
    "df_customers.head()"
   ]
  },
  {
   "cell_type": "code",
   "execution_count": 7,
   "id": "34744ccc-aa4b-491e-b417-467f90ae089a",
   "metadata": {},
   "outputs": [],
   "source": [
    "df_customers.drop_duplicates(subset=\"customer_unique_id\", \n",
    "                             inplace=True)"
   ]
  },
  {
   "cell_type": "code",
   "execution_count": 8,
   "id": "9c6c00d2-48a7-4204-8f8c-8c5c95757757",
   "metadata": {},
   "outputs": [
    {
     "name": "stdout",
     "output_type": "stream",
     "text": [
      "Nombre d'id unique: 96096\n"
     ]
    }
   ],
   "source": [
    "print(\"Nombre d'id unique:\", df_customers[\"customer_unique_id\"].nunique())"
   ]
  },
  {
   "cell_type": "code",
   "execution_count": 9,
   "id": "9f72645b-1a36-4ef7-b539-2c5912215b03",
   "metadata": {},
   "outputs": [
    {
     "name": "stdout",
     "output_type": "stream",
     "text": [
      "Nombre d'id clients: 96096\n"
     ]
    }
   ],
   "source": [
    "print(\"Nombre d'id clients:\", df_customers[\"customer_id\"].nunique())"
   ]
  },
  {
   "cell_type": "markdown",
   "id": "65e71e0c-d51c-4297-a2d9-b70c393c41e6",
   "metadata": {},
   "source": [
    "#### b. Informations sur les commandes"
   ]
  },
  {
   "cell_type": "markdown",
   "id": "5dd8933b-38f5-4d5d-a502-361b62d8bcc0",
   "metadata": {},
   "source": [
    "On va ensuite s'intéresser aux informations des commandes pour calculer"
   ]
  },
  {
   "cell_type": "code",
   "execution_count": 10,
   "id": "a91d92aa-a466-4b47-96a1-af6ae2af9e1b",
   "metadata": {},
   "outputs": [],
   "source": [
    "df_orders = pd.read_csv(\"olist_orders_dataset.csv\")"
   ]
  },
  {
   "cell_type": "code",
   "execution_count": 11,
   "id": "58bd34b1-b538-4331-b36a-352a9d02f3e6",
   "metadata": {},
   "outputs": [],
   "source": [
    "# Association between customers and orders\n",
    "# In order to calculate Frequency and Recency\n",
    "df = pd.merge(df_customers,\n",
    "              df_orders,\n",
    "              left_on=\"customer_id\",\n",
    "              right_on=\"customer_id\",\n",
    "              how=\"right\")\n",
    "df.drop_duplicates(subset=\"customer_id\",\n",
    "                   inplace=True)"
   ]
  },
  {
   "cell_type": "code",
   "execution_count": 12,
   "id": "9a5ef644-d901-40a6-ab30-d85bc8c34d6d",
   "metadata": {},
   "outputs": [],
   "source": [
    "df_orders_payments = pd.read_csv(\"olist_order_payments_dataset.csv\")"
   ]
  },
  {
   "cell_type": "code",
   "execution_count": 13,
   "id": "a2c2c0f5-0d99-4897-915e-e0654b008362",
   "metadata": {},
   "outputs": [],
   "source": [
    "# Association between customers, orders and orders payments\n",
    "# In order to calculate MonetaryValue\n",
    "df = pd.merge(df, df_orders_payments, left_on=\"order_id\",\n",
    "              right_on=\"order_id\", how=\"right\")"
   ]
  },
  {
   "cell_type": "code",
   "execution_count": 14,
   "id": "58ab08f6-9df6-445a-91cf-74f8d0c24201",
   "metadata": {},
   "outputs": [],
   "source": [
    "# Transformation timestamps into datetime\n",
    "time = [\"order_purchase_timestamp\", \"order_approved_at\",\n",
    "        \"order_delivered_carrier_date\", \"order_delivered_customer_date\",\n",
    "        \"order_estimated_delivery_date\"]\n",
    "\n",
    "for cols in time:\n",
    "    df[cols] = pd.to_datetime(df[cols],\n",
    "                              format=\"%Y-%m-%d\", errors=\"ignore\")"
   ]
  },
  {
   "cell_type": "code",
   "execution_count": 15,
   "id": "a8547824-e93e-4984-8c6d-7d982aaeb3a6",
   "metadata": {},
   "outputs": [],
   "source": [
    "snapshot_date = max(df.order_purchase_timestamp) + datetime.timedelta(days=1)"
   ]
  },
  {
   "cell_type": "code",
   "execution_count": 16,
   "id": "dc4a30cb-4cc5-4e05-93e5-2493b93656d1",
   "metadata": {},
   "outputs": [],
   "source": [
    "# Creation of RFM segmentation\n",
    "rfm_custom = df.groupby(\"customer_unique_id\").agg({\n",
    "    \"order_purchase_timestamp\" : lambda x: (snapshot_date - x.max()).days,\n",
    "    \"order_id\" : 'count',\n",
    "    \"payment_value\" : \"mean\"\n",
    "})\n",
    "rfm_custom.columns = [\"Recency\", \"Frequency\", \"MonetaryValue\"]\n",
    "data = rfm_custom.copy().reset_index()"
   ]
  },
  {
   "cell_type": "code",
   "execution_count": 17,
   "id": "2097fe16-0f8f-405a-a166-d028a66dcfb7",
   "metadata": {},
   "outputs": [],
   "source": [
    "# Calculation of scores with the help of quartiles\n",
    "# Except for the frequency\n",
    "data['r_quartile'] = pd.qcut(data['Recency'], 4, ['1', '2', '3', '4'])\n",
    "data['f_bins'] = pd.cut(data['Frequency'], 2, labels=['2', '1'])\n",
    "data['m_quartile'] = pd.qcut(data['MonetaryValue'], 4, ['4', '3', '2', '1'])"
   ]
  },
  {
   "cell_type": "code",
   "execution_count": 18,
   "id": "0ae766a4-c6bc-4ec6-b80d-eb8bb2d2eee9",
   "metadata": {},
   "outputs": [
    {
     "data": {
      "text/html": [
       "<div>\n",
       "<style scoped>\n",
       "    .dataframe tbody tr th:only-of-type {\n",
       "        vertical-align: middle;\n",
       "    }\n",
       "\n",
       "    .dataframe tbody tr th {\n",
       "        vertical-align: top;\n",
       "    }\n",
       "\n",
       "    .dataframe thead th {\n",
       "        text-align: right;\n",
       "    }\n",
       "</style>\n",
       "<table border=\"1\" class=\"dataframe\">\n",
       "  <thead>\n",
       "    <tr style=\"text-align: right;\">\n",
       "      <th></th>\n",
       "      <th>customer_unique_id</th>\n",
       "      <th>Recency</th>\n",
       "      <th>Frequency</th>\n",
       "      <th>MonetaryValue</th>\n",
       "      <th>r_quartile</th>\n",
       "      <th>f_bins</th>\n",
       "      <th>m_quartile</th>\n",
       "      <th>RFM_Score</th>\n",
       "    </tr>\n",
       "  </thead>\n",
       "  <tbody>\n",
       "    <tr>\n",
       "      <th>42174</th>\n",
       "      <td>7020078859b9015b76e7469322c2c415</td>\n",
       "      <td>77</td>\n",
       "      <td>1</td>\n",
       "      <td>190.40</td>\n",
       "      <td>1</td>\n",
       "      <td>2</td>\n",
       "      <td>1</td>\n",
       "      <td>121</td>\n",
       "    </tr>\n",
       "    <tr>\n",
       "      <th>46944</th>\n",
       "      <td>7cc8c55781241cb0699be8b935e8e5a2</td>\n",
       "      <td>141</td>\n",
       "      <td>1</td>\n",
       "      <td>357.90</td>\n",
       "      <td>1</td>\n",
       "      <td>2</td>\n",
       "      <td>1</td>\n",
       "      <td>121</td>\n",
       "    </tr>\n",
       "    <tr>\n",
       "      <th>88914</th>\n",
       "      <td>eca9d15ebd1b37acb67bd1c3e3ca5b2c</td>\n",
       "      <td>78</td>\n",
       "      <td>1</td>\n",
       "      <td>405.03</td>\n",
       "      <td>1</td>\n",
       "      <td>2</td>\n",
       "      <td>1</td>\n",
       "      <td>121</td>\n",
       "    </tr>\n",
       "    <tr>\n",
       "      <th>9164</th>\n",
       "      <td>18360e41b00709cc7b2c6f391eff829e</td>\n",
       "      <td>121</td>\n",
       "      <td>1</td>\n",
       "      <td>1839.05</td>\n",
       "      <td>1</td>\n",
       "      <td>2</td>\n",
       "      <td>1</td>\n",
       "      <td>121</td>\n",
       "    </tr>\n",
       "    <tr>\n",
       "      <th>46965</th>\n",
       "      <td>7cd747a15b6eb374e2706259c27e96a8</td>\n",
       "      <td>158</td>\n",
       "      <td>1</td>\n",
       "      <td>309.57</td>\n",
       "      <td>1</td>\n",
       "      <td>2</td>\n",
       "      <td>1</td>\n",
       "      <td>121</td>\n",
       "    </tr>\n",
       "    <tr>\n",
       "      <th>...</th>\n",
       "      <td>...</td>\n",
       "      <td>...</td>\n",
       "      <td>...</td>\n",
       "      <td>...</td>\n",
       "      <td>...</td>\n",
       "      <td>...</td>\n",
       "      <td>...</td>\n",
       "      <td>...</td>\n",
       "    </tr>\n",
       "    <tr>\n",
       "      <th>53217</th>\n",
       "      <td>8df1329b564044430fe684b6632f0c8a</td>\n",
       "      <td>595</td>\n",
       "      <td>1</td>\n",
       "      <td>58.46</td>\n",
       "      <td>4</td>\n",
       "      <td>2</td>\n",
       "      <td>4</td>\n",
       "      <td>424</td>\n",
       "    </tr>\n",
       "    <tr>\n",
       "      <th>53216</th>\n",
       "      <td>8df10be00a35becbb4993496f949d948</td>\n",
       "      <td>589</td>\n",
       "      <td>1</td>\n",
       "      <td>45.64</td>\n",
       "      <td>4</td>\n",
       "      <td>2</td>\n",
       "      <td>4</td>\n",
       "      <td>424</td>\n",
       "    </tr>\n",
       "    <tr>\n",
       "      <th>91541</th>\n",
       "      <td>f3cb4bf78563e8f29fb8df63f3ae2748</td>\n",
       "      <td>473</td>\n",
       "      <td>1</td>\n",
       "      <td>51.14</td>\n",
       "      <td>4</td>\n",
       "      <td>2</td>\n",
       "      <td>4</td>\n",
       "      <td>424</td>\n",
       "    </tr>\n",
       "    <tr>\n",
       "      <th>53276</th>\n",
       "      <td>8e1c8e08724097b43730e4344f3200db</td>\n",
       "      <td>472</td>\n",
       "      <td>1</td>\n",
       "      <td>45.61</td>\n",
       "      <td>4</td>\n",
       "      <td>2</td>\n",
       "      <td>4</td>\n",
       "      <td>424</td>\n",
       "    </tr>\n",
       "    <tr>\n",
       "      <th>36449</th>\n",
       "      <td>60ae910f58006f096b4d848e5df0b6f1</td>\n",
       "      <td>555</td>\n",
       "      <td>1</td>\n",
       "      <td>56.29</td>\n",
       "      <td>4</td>\n",
       "      <td>2</td>\n",
       "      <td>4</td>\n",
       "      <td>424</td>\n",
       "    </tr>\n",
       "  </tbody>\n",
       "</table>\n",
       "<p>96095 rows × 8 columns</p>\n",
       "</div>"
      ],
      "text/plain": [
       "                     customer_unique_id  Recency  Frequency  MonetaryValue  \\\n",
       "42174  7020078859b9015b76e7469322c2c415       77          1         190.40   \n",
       "46944  7cc8c55781241cb0699be8b935e8e5a2      141          1         357.90   \n",
       "88914  eca9d15ebd1b37acb67bd1c3e3ca5b2c       78          1         405.03   \n",
       "9164   18360e41b00709cc7b2c6f391eff829e      121          1        1839.05   \n",
       "46965  7cd747a15b6eb374e2706259c27e96a8      158          1         309.57   \n",
       "...                                 ...      ...        ...            ...   \n",
       "53217  8df1329b564044430fe684b6632f0c8a      595          1          58.46   \n",
       "53216  8df10be00a35becbb4993496f949d948      589          1          45.64   \n",
       "91541  f3cb4bf78563e8f29fb8df63f3ae2748      473          1          51.14   \n",
       "53276  8e1c8e08724097b43730e4344f3200db      472          1          45.61   \n",
       "36449  60ae910f58006f096b4d848e5df0b6f1      555          1          56.29   \n",
       "\n",
       "      r_quartile f_bins m_quartile RFM_Score  \n",
       "42174          1      2          1       121  \n",
       "46944          1      2          1       121  \n",
       "88914          1      2          1       121  \n",
       "9164           1      2          1       121  \n",
       "46965          1      2          1       121  \n",
       "...          ...    ...        ...       ...  \n",
       "53217          4      2          4       424  \n",
       "53216          4      2          4       424  \n",
       "91541          4      2          4       424  \n",
       "53276          4      2          4       424  \n",
       "36449          4      2          4       424  \n",
       "\n",
       "[96095 rows x 8 columns]"
      ]
     },
     "execution_count": 18,
     "metadata": {},
     "output_type": "execute_result"
    }
   ],
   "source": [
    "# Creation of RFM Score with the concatenation of\n",
    "# R, F & M quartile/bins\n",
    "data['RFM_Score'] = data[\"r_quartile\"].astype(str) \\\n",
    "                    + data[\"f_bins\"].astype(str) \\\n",
    "                    + data[\"m_quartile\"].astype(str)\n",
    "data.sort_values(\"RFM_Score\", ascending=True)"
   ]
  },
  {
   "cell_type": "markdown",
   "id": "45604306-d162-4e39-b921-326873185daf",
   "metadata": {},
   "source": [
    "On remarque que la fréquence d'achat est le plus souvent de 1. Le choix a donc été fait de faire une binarisation de cette donnée en 1 (un achat) et 2 (plus d'un achat). Ce problème sur la fréquence d'achat va se répercuter sur la récence. Enfin, pour le montant dépensé, les calculs ont pu être fait classiquement. La séparation a été réalisée sur la base des quartiles.\n",
    "\n",
    "Une fois la discrétisation des variables R, F et M réalisée, on crée un score qui correspond à la concaténation de ces trois indices. Ainsi, on obtient une segmentation RFM composée de 32 segments (4 x 2 x 4)."
   ]
  },
  {
   "cell_type": "markdown",
   "id": "f24f1c2e-9d2b-4036-a3f1-409e5fd6460d",
   "metadata": {},
   "source": [
    "#### c. Analyse de la segmentation RFM"
   ]
  },
  {
   "cell_type": "code",
   "execution_count": 19,
   "id": "bfd1fc3e-7bee-4886-a888-acdf8a2d93d1",
   "metadata": {},
   "outputs": [
    {
     "data": {
      "text/html": [
       "<div>\n",
       "<style scoped>\n",
       "    .dataframe tbody tr th:only-of-type {\n",
       "        vertical-align: middle;\n",
       "    }\n",
       "\n",
       "    .dataframe tbody tr th {\n",
       "        vertical-align: top;\n",
       "    }\n",
       "\n",
       "    .dataframe thead th {\n",
       "        text-align: right;\n",
       "    }\n",
       "</style>\n",
       "<table border=\"1\" class=\"dataframe\">\n",
       "  <thead>\n",
       "    <tr style=\"text-align: right;\">\n",
       "      <th></th>\n",
       "      <th>Recency</th>\n",
       "      <th>Frequency</th>\n",
       "      <th>MonetaryValue</th>\n",
       "    </tr>\n",
       "  </thead>\n",
       "  <tbody>\n",
       "    <tr>\n",
       "      <th>count</th>\n",
       "      <td>96095.000000</td>\n",
       "      <td>96095.000000</td>\n",
       "      <td>96095.000000</td>\n",
       "    </tr>\n",
       "    <tr>\n",
       "      <th>mean</th>\n",
       "      <td>290.107727</td>\n",
       "      <td>1.044342</td>\n",
       "      <td>158.636702</td>\n",
       "    </tr>\n",
       "    <tr>\n",
       "      <th>std</th>\n",
       "      <td>153.607874</td>\n",
       "      <td>0.380658</td>\n",
       "      <td>220.154652</td>\n",
       "    </tr>\n",
       "    <tr>\n",
       "      <th>min</th>\n",
       "      <td>1.000000</td>\n",
       "      <td>1.000000</td>\n",
       "      <td>0.000000</td>\n",
       "    </tr>\n",
       "    <tr>\n",
       "      <th>25%</th>\n",
       "      <td>166.000000</td>\n",
       "      <td>1.000000</td>\n",
       "      <td>60.235000</td>\n",
       "    </tr>\n",
       "    <tr>\n",
       "      <th>50%</th>\n",
       "      <td>271.000000</td>\n",
       "      <td>1.000000</td>\n",
       "      <td>103.420000</td>\n",
       "    </tr>\n",
       "    <tr>\n",
       "      <th>75%</th>\n",
       "      <td>400.000000</td>\n",
       "      <td>1.000000</td>\n",
       "      <td>175.080000</td>\n",
       "    </tr>\n",
       "    <tr>\n",
       "      <th>max</th>\n",
       "      <td>773.000000</td>\n",
       "      <td>29.000000</td>\n",
       "      <td>13664.080000</td>\n",
       "    </tr>\n",
       "  </tbody>\n",
       "</table>\n",
       "</div>"
      ],
      "text/plain": [
       "            Recency     Frequency  MonetaryValue\n",
       "count  96095.000000  96095.000000   96095.000000\n",
       "mean     290.107727      1.044342     158.636702\n",
       "std      153.607874      0.380658     220.154652\n",
       "min        1.000000      1.000000       0.000000\n",
       "25%      166.000000      1.000000      60.235000\n",
       "50%      271.000000      1.000000     103.420000\n",
       "75%      400.000000      1.000000     175.080000\n",
       "max      773.000000     29.000000   13664.080000"
      ]
     },
     "execution_count": 19,
     "metadata": {},
     "output_type": "execute_result"
    }
   ],
   "source": [
    "# Describe statistics\n",
    "data.describe()"
   ]
  },
  {
   "cell_type": "code",
   "execution_count": 20,
   "id": "5a4ef312-2923-48a6-b07c-2880e4c11fd7",
   "metadata": {},
   "outputs": [
    {
     "data": {
      "image/png": "[encoded data removed]",
      "text/plain": [
       "<Figure size 1080x360 with 2 Axes>"
      ]
     },
     "metadata": {},
     "output_type": "display_data"
    }
   ],
   "source": [
    "fig, axes = plt.subplots(1, 2, figsize=(15, 5), sharex=True)\n",
    "fig.suptitle('Description des montants dépensés par les clients')\n",
    "\n",
    "sns.histplot(ax=axes[0], x=\"MonetaryValue\", data=data, kde=True)\n",
    "axes[0].set_title(\"Distribution des montants dépensés\")\n",
    "\n",
    "sns.boxplot(ax=axes[1], x=\"MonetaryValue\", data=data)\n",
    "axes[1].set_title(\"Boxplot des montants dépensés\")\n",
    "\n",
    "plt.show()"
   ]
  },
  {
   "cell_type": "code",
   "execution_count": 21,
   "id": "fb565584-ebea-42ac-a813-5f7f6a737ca1",
   "metadata": {},
   "outputs": [
    {
     "data": {
      "image/png": "[encoded data removed]",
      "text/plain": [
       "<Figure size 1080x360 with 2 Axes>"
      ]
     },
     "metadata": {},
     "output_type": "display_data"
    }
   ],
   "source": [
    "fig, axes = plt.subplots(1, 2, figsize=(15, 5), sharex=True)\n",
    "fig.suptitle('Description des jours passés depuis la dernière commande')\n",
    "\n",
    "sns.histplot(ax=axes[0], x=\"Recency\", data=data, kde=True)\n",
    "axes[0].set_title(\"Distribution des jours passés depuis la dernière commande\")\n",
    "\n",
    "sns.boxplot(ax=axes[1], x=\"Recency\", data=data)\n",
    "axes[1].set_title(\"Boxplot des jours passés depuis la dernière commande\")\n",
    "\n",
    "plt.show()"
   ]
  },
  {
   "cell_type": "code",
   "execution_count": 22,
   "id": "f64cbd42-5637-48a6-821c-857cfae241b3",
   "metadata": {},
   "outputs": [
    {
     "data": {
      "image/png": "[encoded data removed]",
      "text/plain": [
       "<Figure size 576x396 with 1 Axes>"
      ]
     },
     "metadata": {},
     "output_type": "display_data"
    }
   ],
   "source": [
    "sns.countplot(y=\"Frequency\", data=data)\n",
    "plt.ylim(23)\n",
    "plt.title(\"Répartition de la fréquence d'achat\")\n",
    "\n",
    "plt.show()"
   ]
  },
  {
   "cell_type": "markdown",
   "id": "1be5347a-7a9b-4d5f-8442-b7d5c1241287",
   "metadata": {},
   "source": [
    "##### Conclusion"
   ]
  },
  {
   "cell_type": "markdown",
   "id": "7e6fdc33-08a0-4537-acd3-7af68eaa5669",
   "metadata": {},
   "source": [
    "La fréquence et la récence ne semblent pas être très discriminants. En effet, la plupart des clients réalise un seul achat. De même, il est difficile de savoir s'ils reviennent régulièrement acheter donc la récence est très variable. Les sommes dépensées atteignent un maximum de 14.000 Réaux.\n",
    "\n",
    "En inspectant le fonctionnement du site, il s'avère que l'on peut commander sans avoir besoin de créer un compte. On ne peut donc pas savoir si une personne commande plusieurs fois et obtenir les informations nécessaires. Il pourrait être intéressant d'instaurer un système de compte pour obtenir des informations plus stables sur la récence et la fréquence. A défaut, un système de cookies pouvant \"tracker\" (tout en respectant les législations en vigueur) peut être une solution permettant de remédier à ce problème."
   ]
  },
  {
   "cell_type": "code",
   "execution_count": 23,
   "id": "b287dcf9-66f1-47b3-96b3-c19e1ca9f189",
   "metadata": {},
   "outputs": [],
   "source": [
    "del df_orders_payments\n",
    "del rfm_custom"
   ]
  },
  {
   "cell_type": "code",
   "execution_count": 24,
   "id": "8b03876e-f3c2-410d-a69f-fd721463f43a",
   "metadata": {},
   "outputs": [
    {
     "data": {
      "text/plain": [
       "169165"
      ]
     },
     "execution_count": 24,
     "metadata": {},
     "output_type": "execute_result"
    }
   ],
   "source": [
    "gc.collect()"
   ]
  },
  {
   "cell_type": "code",
   "execution_count": 25,
   "id": "6e528ccd-adf4-47a8-9f7d-87183aa93f8a",
   "metadata": {},
   "outputs": [],
   "source": [
    "data.set_index(\"customer_unique_id\", inplace=True)"
   ]
  },
  {
   "cell_type": "code",
   "execution_count": 26,
   "id": "70ed4bc1-7886-4afa-9127-90c59f43d91c",
   "metadata": {},
   "outputs": [],
   "source": [
    "data.to_csv(\"data_segmentation_rfm.csv\")"
   ]
  },
  {
   "cell_type": "markdown",
   "id": "c753bc03-72e2-4633-bb13-acdd5d99bc1b",
   "metadata": {},
   "source": [
    "### 2. Ajout de variables supplémentaires"
   ]
  },
  {
   "cell_type": "markdown",
   "id": "9ff50596-d913-4f24-82d8-e1f7a7a947d1",
   "metadata": {},
   "source": [
    "On va créer de nouvelles variables que l'on va ajouter pour pouvoir obtenir une segmentation plus fine. Parmi ces variables, on va ajouter le nombre de jours entre la commande (order_approved_at) et la réception de cette dernière, la distance entre le client et le vendeur, l'avis du client et la catégorie de produits commandée."
   ]
  },
  {
   "cell_type": "code",
   "execution_count": 27,
   "id": "e8cd289e-5cec-469b-b67b-93613fda8fb5",
   "metadata": {},
   "outputs": [],
   "source": [
    "data.reset_index(inplace=True)"
   ]
  },
  {
   "cell_type": "code",
   "execution_count": 28,
   "id": "b16fb445-a16c-4821-aa82-c634187b22e1",
   "metadata": {},
   "outputs": [],
   "source": [
    "from haversine import haversine_vector"
   ]
  },
  {
   "cell_type": "code",
   "execution_count": 29,
   "id": "3c9c5a6c-e8ed-4982-9be7-6ba21687692b",
   "metadata": {},
   "outputs": [],
   "source": [
    "df_sellers = pd.read_csv(\"olist_sellers_dataset.csv\")"
   ]
  },
  {
   "cell_type": "code",
   "execution_count": 30,
   "id": "daef8dce-a0aa-4073-8c73-640de30103bd",
   "metadata": {},
   "outputs": [],
   "source": [
    "df_sellers = pd.merge(df_geo, df_sellers,\n",
    "                        right_on=[\"seller_zip_code_prefix\",\n",
    "                                  \"seller_city\",\n",
    "                                  \"seller_state\"],\n",
    "                        left_on=[\"geolocation_zip_code_prefix\",\n",
    "                                 \"geolocation_city\",\n",
    "                                 \"geolocation_state\"],\n",
    "                        how=\"right\")\n",
    "df_sellers.drop([\"geolocation_zip_code_prefix\",\n",
    "                 \"geolocation_city\",\n",
    "                 \"geolocation_state\"], axis=1, inplace=True)\n",
    "df_sellers = df_sellers[['seller_id',\n",
    "                         \"geolocation_lat\",\n",
    "                         \"geolocation_lng\"]]\n",
    "df_sellers.columns = [\"seller_id\",\n",
    "                      \"seller_latitude\",\n",
    "                      \"seller_longitude\"]"
   ]
  },
  {
   "cell_type": "code",
   "execution_count": 31,
   "id": "73262f5e-8b65-4ecb-be4a-be5b7ec465ec",
   "metadata": {},
   "outputs": [],
   "source": [
    "df_sellers.drop_duplicates(subset=\"seller_id\", inplace=True)"
   ]
  },
  {
   "cell_type": "code",
   "execution_count": 32,
   "id": "f7b9abe6-9d84-4158-b8d2-67006d137bb1",
   "metadata": {},
   "outputs": [],
   "source": [
    "df_items = pd.read_csv(\"olist_order_items_dataset.csv\")"
   ]
  },
  {
   "cell_type": "code",
   "execution_count": 33,
   "id": "2099b9d1-45d4-420b-a85a-0343bbc969e6",
   "metadata": {},
   "outputs": [],
   "source": [
    "df_items = pd.merge(df_orders, df_items, on=\"order_id\", how=\"left\")"
   ]
  },
  {
   "cell_type": "code",
   "execution_count": 34,
   "id": "bec9109f-904d-4abb-acb8-08d88d4bbb14",
   "metadata": {},
   "outputs": [],
   "source": [
    "df_items = pd.merge(df_items, df_customers, on=\"customer_id\", how=\"left\")"
   ]
  },
  {
   "cell_type": "code",
   "execution_count": 35,
   "id": "003bd00b-3247-49d6-9504-4a26a29e9d81",
   "metadata": {},
   "outputs": [],
   "source": [
    "df_items = pd.merge(df_sellers, df_items, on=\"seller_id\", how=\"left\")"
   ]
  },
  {
   "cell_type": "code",
   "execution_count": 36,
   "id": "519cdb5c-ae1c-4823-b214-ba810aa8697b",
   "metadata": {},
   "outputs": [],
   "source": [
    "df_items.dropna(subset=[\"customer_city\"], inplace=True)"
   ]
  },
  {
   "cell_type": "code",
   "execution_count": 37,
   "id": "f3b08322-8ce8-4ce8-a557-cc46868b5b9d",
   "metadata": {},
   "outputs": [],
   "source": [
    "df_items = df_items[[\"customer_unique_id\",\n",
    "                     \"product_id\"]]\n",
    "data = pd.merge(data, df_items,\n",
    "                on=\"customer_unique_id\",\n",
    "                how=\"left\")"
   ]
  },
  {
   "cell_type": "markdown",
   "id": "129550d7-bd37-4624-be4e-585ccde06a7c",
   "metadata": {},
   "source": [
    "#### a. Informations sur le type de produits commandés"
   ]
  },
  {
   "cell_type": "code",
   "execution_count": 38,
   "id": "f3115336-a49d-4757-91fe-89d43d1c2ee5",
   "metadata": {},
   "outputs": [],
   "source": [
    "df_products = pd.read_csv(\"olist_products_dataset.csv\")\n",
    "df_translation = pd.read_csv(\"product_category_name_translation.csv\")\n",
    "df_products = pd.merge(df_products,\n",
    "                       df_translation,\n",
    "                       on=\"product_category_name\")\n",
    "df_products = df_products[[\"product_id\",\n",
    "                           \"product_category_name_english\"]]\n",
    "df_products.rename(columns={\"product_category_name_english\" : \"product_category_name\"}, \n",
    "                   inplace=True)"
   ]
  },
  {
   "cell_type": "code",
   "execution_count": 39,
   "id": "390a17a6-e4d2-41ef-a313-2a0298b94248",
   "metadata": {},
   "outputs": [],
   "source": [
    "data = pd.merge(data, df_products, on=\"product_id\", how=\"left\")\n",
    "data.drop(\"product_id\", axis=1, inplace=True)"
   ]
  },
  {
   "cell_type": "markdown",
   "id": "ee1f5636-c2bb-4b23-9a26-385b8f45b160",
   "metadata": {},
   "source": [
    "#### b. Informations sur les avis clients"
   ]
  },
  {
   "cell_type": "code",
   "execution_count": 40,
   "id": "183c731a-092b-4322-b03a-2c4c930fa90c",
   "metadata": {},
   "outputs": [],
   "source": [
    "df_reviews = pd.read_csv(\"olist_order_reviews_dataset.csv\")"
   ]
  },
  {
   "cell_type": "code",
   "execution_count": 41,
   "id": "1d5d805b-0ebc-48c6-a79d-a4d9ec6398bc",
   "metadata": {},
   "outputs": [],
   "source": [
    "df_reviews.drop([\"review_id\", \"review_creation_date\",\n",
    "                 \"review_answer_timestamp\"],\n",
    "                axis=1,\n",
    "                inplace=True)"
   ]
  },
  {
   "cell_type": "code",
   "execution_count": 42,
   "id": "6b85f6ee-683e-4600-bd43-46e23896f698",
   "metadata": {},
   "outputs": [],
   "source": [
    "df_reviews[\"review_score\"] = df_reviews[\"review_score\"].astype(\"int32\")"
   ]
  },
  {
   "cell_type": "code",
   "execution_count": 43,
   "id": "e9786129-d009-46a2-a39e-faa60e3d0f4c",
   "metadata": {},
   "outputs": [],
   "source": [
    "df_orders = pd.read_csv(\"olist_orders_dataset.csv\")"
   ]
  },
  {
   "cell_type": "code",
   "execution_count": 44,
   "id": "6663b8e2-e193-4388-9212-e7eb404359e1",
   "metadata": {},
   "outputs": [],
   "source": [
    "df_orders.drop([\"order_purchase_timestamp\",\n",
    "                \"order_delivered_carrier_date\"], axis=1, inplace=True)\n",
    "cols_time = [\"order_approved_at\",\n",
    "             \"order_delivered_customer_date\",\n",
    "             \"order_estimated_delivery_date\"]\n",
    "\n",
    "for cols in cols_time:\n",
    "    df_orders[cols] = pd.to_datetime(df_orders[cols],\n",
    "                                     format=\"%Y-%m-%d\",\n",
    "                                     errors=\"ignore\")"
   ]
  },
  {
   "cell_type": "code",
   "execution_count": 45,
   "id": "011c5210-3d2b-4efe-a521-02c93882ed62",
   "metadata": {},
   "outputs": [
    {
     "name": "stdout",
     "output_type": "stream",
     "text": [
      "<class 'pandas.core.frame.DataFrame'>\n",
      "RangeIndex: 99441 entries, 0 to 99440\n",
      "Data columns (total 6 columns):\n",
      " #   Column                         Non-Null Count  Dtype         \n",
      "---  ------                         --------------  -----         \n",
      " 0   order_id                       99441 non-null  object        \n",
      " 1   customer_id                    99441 non-null  object        \n",
      " 2   order_status                   99441 non-null  object        \n",
      " 3   order_approved_at              99281 non-null  datetime64[ns]\n",
      " 4   order_delivered_customer_date  96476 non-null  datetime64[ns]\n",
      " 5   order_estimated_delivery_date  99441 non-null  datetime64[ns]\n",
      "dtypes: datetime64[ns](3), object(3)\n",
      "memory usage: 4.6+ MB\n"
     ]
    }
   ],
   "source": [
    "df_orders.info()"
   ]
  },
  {
   "cell_type": "markdown",
   "id": "890d4dc0-2690-4826-a205-96518337b73b",
   "metadata": {},
   "source": [
    "#### c. Calcul entre le nombre de jours entre la commande et la réception réel et estimé"
   ]
  },
  {
   "cell_type": "code",
   "execution_count": 46,
   "id": "b365dfc6-156d-4a96-8795-1fc0c6d63ce4",
   "metadata": {},
   "outputs": [],
   "source": [
    "df_orders[\"nb_days_before_delivered\"] = df_orders[\"order_delivered_customer_date\"] \\\n",
    "                                        - df_orders[\"order_approved_at\"]\n",
    "df_orders[\"nb_days_before_delivered_estimation\"] = df_orders[\"order_estimated_delivery_date\"] \\\n",
    "                                                   - df_orders[\"order_approved_at\"]\n",
    "\n",
    "cols_var = [\"nb_days_before_delivered\",\n",
    "            \"nb_days_before_delivered_estimation\"]\n",
    "\n",
    "for cols in cols_var:\n",
    "    df_orders[cols] = df_orders[cols].dt.days\n",
    "\n",
    "df_orders.drop([\"order_approved_at\",\n",
    "                \"order_delivered_customer_date\",\n",
    "                \"order_estimated_delivery_date\"], axis=1, inplace=True)"
   ]
  },
  {
   "cell_type": "markdown",
   "id": "1f867900-3293-43db-bd27-1494508db552",
   "metadata": {},
   "source": [
    "#### d. Création d'un dataframe unique : assemblage des différentes variables"
   ]
  },
  {
   "cell_type": "code",
   "execution_count": 47,
   "id": "0c2bc013-59e4-4395-9c29-a35bba7cc31a",
   "metadata": {},
   "outputs": [],
   "source": [
    "df_customers_orders = pd.merge(df_customers,\n",
    "                               df_orders,\n",
    "                               on=\"customer_id\",\n",
    "                               how=\"left\")"
   ]
  },
  {
   "cell_type": "code",
   "execution_count": 48,
   "id": "4ddaef8d-4e9f-4870-84ad-8fd5c9038004",
   "metadata": {},
   "outputs": [],
   "source": [
    "df_customers_orders = pd.merge(df_customers_orders,\n",
    "                               df_reviews,\n",
    "                               on=\"order_id\",\n",
    "                               how=\"left\")"
   ]
  },
  {
   "cell_type": "code",
   "execution_count": 49,
   "id": "a7a4221c-9637-4aba-8b52-f651d27900e1",
   "metadata": {},
   "outputs": [],
   "source": [
    "df_customers_orders.drop([\"order_id\"], axis=1, inplace=True)"
   ]
  },
  {
   "cell_type": "code",
   "execution_count": 50,
   "id": "88fb4ca0-b15f-40bb-8ad0-dbbe38b3acca",
   "metadata": {},
   "outputs": [
    {
     "data": {
      "text/html": [
       "<div>\n",
       "<style scoped>\n",
       "    .dataframe tbody tr th:only-of-type {\n",
       "        vertical-align: middle;\n",
       "    }\n",
       "\n",
       "    .dataframe tbody tr th {\n",
       "        vertical-align: top;\n",
       "    }\n",
       "\n",
       "    .dataframe thead th {\n",
       "        text-align: right;\n",
       "    }\n",
       "</style>\n",
       "<table border=\"1\" class=\"dataframe\">\n",
       "  <thead>\n",
       "    <tr style=\"text-align: right;\">\n",
       "      <th></th>\n",
       "      <th>customer_id</th>\n",
       "      <th>customer_unique_id</th>\n",
       "      <th>customer_city</th>\n",
       "      <th>customer_latitude</th>\n",
       "      <th>customer_longitude</th>\n",
       "      <th>order_status</th>\n",
       "      <th>nb_days_before_delivered</th>\n",
       "      <th>nb_days_before_delivered_estimation</th>\n",
       "      <th>review_score</th>\n",
       "      <th>review_comment_title</th>\n",
       "      <th>review_comment_message</th>\n",
       "    </tr>\n",
       "  </thead>\n",
       "  <tbody>\n",
       "    <tr>\n",
       "      <th>0</th>\n",
       "      <td>06b8999e2fba1a1fbc88172c00ba8bc7</td>\n",
       "      <td>861eff4711a542e4b93843c6dd7febb0</td>\n",
       "      <td>franca</td>\n",
       "      <td>-20.509897</td>\n",
       "      <td>-47.397866</td>\n",
       "      <td>delivered</td>\n",
       "      <td>8.0</td>\n",
       "      <td>19.0</td>\n",
       "      <td>4.0</td>\n",
       "      <td>NaN</td>\n",
       "      <td>NaN</td>\n",
       "    </tr>\n",
       "    <tr>\n",
       "      <th>1</th>\n",
       "      <td>18955e83d337fd6b2def6b18a428ac77</td>\n",
       "      <td>290c77bc529b7ac935b93aa66c333dc3</td>\n",
       "      <td>sao bernardo do campo</td>\n",
       "      <td>-23.726853</td>\n",
       "      <td>-46.545746</td>\n",
       "      <td>delivered</td>\n",
       "      <td>16.0</td>\n",
       "      <td>24.0</td>\n",
       "      <td>5.0</td>\n",
       "      <td>NaN</td>\n",
       "      <td>NaN</td>\n",
       "    </tr>\n",
       "    <tr>\n",
       "      <th>2</th>\n",
       "      <td>4e7b3e00288586ebd08712fdd0374a03</td>\n",
       "      <td>060e732b5b29e8181a18229c7b0b2b5e</td>\n",
       "      <td>sao paulo</td>\n",
       "      <td>-23.527788</td>\n",
       "      <td>-46.660310</td>\n",
       "      <td>delivered</td>\n",
       "      <td>25.0</td>\n",
       "      <td>23.0</td>\n",
       "      <td>5.0</td>\n",
       "      <td>NaN</td>\n",
       "      <td>NaN</td>\n",
       "    </tr>\n",
       "    <tr>\n",
       "      <th>3</th>\n",
       "      <td>b2b6027bc5c5109e529d4dc6358b12c3</td>\n",
       "      <td>259dac757896d24d7702b9acbbff3f3c</td>\n",
       "      <td>mogi das cruzes</td>\n",
       "      <td>-23.496930</td>\n",
       "      <td>-46.185352</td>\n",
       "      <td>delivered</td>\n",
       "      <td>14.0</td>\n",
       "      <td>27.0</td>\n",
       "      <td>5.0</td>\n",
       "      <td>NaN</td>\n",
       "      <td>NaN</td>\n",
       "    </tr>\n",
       "    <tr>\n",
       "      <th>4</th>\n",
       "      <td>4f2d8ab171c80ec8364f7c12e35b23ad</td>\n",
       "      <td>345ecd01c38d18a9036ed96c73b8d066</td>\n",
       "      <td>campinas</td>\n",
       "      <td>-22.987222</td>\n",
       "      <td>-47.151073</td>\n",
       "      <td>delivered</td>\n",
       "      <td>11.0</td>\n",
       "      <td>16.0</td>\n",
       "      <td>5.0</td>\n",
       "      <td>a melhor nota</td>\n",
       "      <td>O baratheon è esxelente Amo adoro o baratheon</td>\n",
       "    </tr>\n",
       "  </tbody>\n",
       "</table>\n",
       "</div>"
      ],
      "text/plain": [
       "                        customer_id                customer_unique_id  \\\n",
       "0  06b8999e2fba1a1fbc88172c00ba8bc7  861eff4711a542e4b93843c6dd7febb0   \n",
       "1  18955e83d337fd6b2def6b18a428ac77  290c77bc529b7ac935b93aa66c333dc3   \n",
       "2  4e7b3e00288586ebd08712fdd0374a03  060e732b5b29e8181a18229c7b0b2b5e   \n",
       "3  b2b6027bc5c5109e529d4dc6358b12c3  259dac757896d24d7702b9acbbff3f3c   \n",
       "4  4f2d8ab171c80ec8364f7c12e35b23ad  345ecd01c38d18a9036ed96c73b8d066   \n",
       "\n",
       "           customer_city  customer_latitude  customer_longitude order_status  \\\n",
       "0                 franca         -20.509897          -47.397866    delivered   \n",
       "1  sao bernardo do campo         -23.726853          -46.545746    delivered   \n",
       "2              sao paulo         -23.527788          -46.660310    delivered   \n",
       "3        mogi das cruzes         -23.496930          -46.185352    delivered   \n",
       "4               campinas         -22.987222          -47.151073    delivered   \n",
       "\n",
       "   nb_days_before_delivered  nb_days_before_delivered_estimation  \\\n",
       "0                       8.0                                 19.0   \n",
       "1                      16.0                                 24.0   \n",
       "2                      25.0                                 23.0   \n",
       "3                      14.0                                 27.0   \n",
       "4                      11.0                                 16.0   \n",
       "\n",
       "   review_score review_comment_title  \\\n",
       "0           4.0                  NaN   \n",
       "1           5.0                  NaN   \n",
       "2           5.0                  NaN   \n",
       "3           5.0                  NaN   \n",
       "4           5.0        a melhor nota   \n",
       "\n",
       "                          review_comment_message  \n",
       "0                                            NaN  \n",
       "1                                            NaN  \n",
       "2                                            NaN  \n",
       "3                                            NaN  \n",
       "4  O baratheon è esxelente Amo adoro o baratheon  "
      ]
     },
     "execution_count": 50,
     "metadata": {},
     "output_type": "execute_result"
    }
   ],
   "source": [
    "df_customers_orders.head()"
   ]
  },
  {
   "cell_type": "code",
   "execution_count": 51,
   "id": "1964e0bf-d927-41d5-a3a1-2b04cd0d9f73",
   "metadata": {},
   "outputs": [],
   "source": [
    "df_customers_orders = df_customers_orders.groupby(\"customer_unique_id\").mean()\n",
    "df_customers_orders.reset_index(inplace=True)"
   ]
  },
  {
   "cell_type": "code",
   "execution_count": 52,
   "id": "b4ec069c-515d-4a91-a3e1-f9b95a2afdf7",
   "metadata": {},
   "outputs": [],
   "source": [
    "data = pd.merge(data, df_customers_orders, on=\"customer_unique_id\", how=\"left\")"
   ]
  },
  {
   "cell_type": "code",
   "execution_count": 53,
   "id": "73d940d0-293a-4f17-95eb-5ac407cba3ba",
   "metadata": {},
   "outputs": [],
   "source": [
    "data = pd.merge(df_customers, data, on=\"customer_unique_id\", how=\"right\")"
   ]
  },
  {
   "cell_type": "code",
   "execution_count": 54,
   "id": "02f76729-d6b7-4a9d-81dd-062e7a40dabd",
   "metadata": {},
   "outputs": [],
   "source": [
    "data.drop_duplicates(subset=\"customer_unique_id\", inplace=True)"
   ]
  },
  {
   "cell_type": "code",
   "execution_count": 55,
   "id": "0251bac7-a5d0-4d2a-9578-347e6f32d644",
   "metadata": {},
   "outputs": [],
   "source": [
    "data.drop([\"customer_id\",\n",
    "           \"customer_longitude_x\",\n",
    "           \"customer_latitude_x\",\n",
    "           \"customer_longitude_y\",\n",
    "           \"customer_latitude_y\"], axis=1, inplace=True)\n",
    "data.set_index(\"customer_unique_id\",\n",
    "               inplace=True)"
   ]
  },
  {
   "cell_type": "code",
   "execution_count": 56,
   "id": "a4f9b746-68a9-45a3-a221-06ed7a3b9154",
   "metadata": {},
   "outputs": [],
   "source": [
    "data = data.loc[data[\"nb_days_before_delivered\"] > 0]\n",
    "data = data.loc[data[\"nb_days_before_delivered_estimation\"] > 0]"
   ]
  },
  {
   "cell_type": "code",
   "execution_count": 57,
   "id": "5e8d0c4d-4748-419c-884e-8a97d50a88a0",
   "metadata": {},
   "outputs": [
    {
     "data": {
      "text/html": [
       "<div>\n",
       "<style scoped>\n",
       "    .dataframe tbody tr th:only-of-type {\n",
       "        vertical-align: middle;\n",
       "    }\n",
       "\n",
       "    .dataframe tbody tr th {\n",
       "        vertical-align: top;\n",
       "    }\n",
       "\n",
       "    .dataframe thead th {\n",
       "        text-align: right;\n",
       "    }\n",
       "</style>\n",
       "<table border=\"1\" class=\"dataframe\">\n",
       "  <thead>\n",
       "    <tr style=\"text-align: right;\">\n",
       "      <th></th>\n",
       "      <th>customer_city</th>\n",
       "      <th>Recency</th>\n",
       "      <th>Frequency</th>\n",
       "      <th>MonetaryValue</th>\n",
       "      <th>r_quartile</th>\n",
       "      <th>f_bins</th>\n",
       "      <th>m_quartile</th>\n",
       "      <th>RFM_Score</th>\n",
       "      <th>product_category_name</th>\n",
       "      <th>nb_days_before_delivered</th>\n",
       "      <th>nb_days_before_delivered_estimation</th>\n",
       "      <th>review_score</th>\n",
       "    </tr>\n",
       "    <tr>\n",
       "      <th>customer_unique_id</th>\n",
       "      <th></th>\n",
       "      <th></th>\n",
       "      <th></th>\n",
       "      <th></th>\n",
       "      <th></th>\n",
       "      <th></th>\n",
       "      <th></th>\n",
       "      <th></th>\n",
       "      <th></th>\n",
       "      <th></th>\n",
       "      <th></th>\n",
       "      <th></th>\n",
       "    </tr>\n",
       "  </thead>\n",
       "  <tbody>\n",
       "    <tr>\n",
       "      <th>0000366f3b9a7992bf8c76cfdf3221e2</th>\n",
       "      <td>cajamar</td>\n",
       "      <td>161</td>\n",
       "      <td>1</td>\n",
       "      <td>141.90</td>\n",
       "      <td>1</td>\n",
       "      <td>2</td>\n",
       "      <td>2</td>\n",
       "      <td>122</td>\n",
       "      <td>bed_bath_table</td>\n",
       "      <td>6.0</td>\n",
       "      <td>10.0</td>\n",
       "      <td>5.0</td>\n",
       "    </tr>\n",
       "    <tr>\n",
       "      <th>0000b849f77a49e4a4ce2b2a4ca5be3f</th>\n",
       "      <td>osasco</td>\n",
       "      <td>164</td>\n",
       "      <td>1</td>\n",
       "      <td>27.19</td>\n",
       "      <td>1</td>\n",
       "      <td>2</td>\n",
       "      <td>4</td>\n",
       "      <td>124</td>\n",
       "      <td>health_beauty</td>\n",
       "      <td>2.0</td>\n",
       "      <td>7.0</td>\n",
       "      <td>4.0</td>\n",
       "    </tr>\n",
       "    <tr>\n",
       "      <th>0000f46a3911fa3c0805444483337064</th>\n",
       "      <td>sao jose</td>\n",
       "      <td>586</td>\n",
       "      <td>1</td>\n",
       "      <td>86.22</td>\n",
       "      <td>4</td>\n",
       "      <td>2</td>\n",
       "      <td>3</td>\n",
       "      <td>423</td>\n",
       "      <td>stationery</td>\n",
       "      <td>25.0</td>\n",
       "      <td>27.0</td>\n",
       "      <td>3.0</td>\n",
       "    </tr>\n",
       "    <tr>\n",
       "      <th>0000f6ccb0745a6a4b88665a16c9f078</th>\n",
       "      <td>belem</td>\n",
       "      <td>370</td>\n",
       "      <td>1</td>\n",
       "      <td>43.62</td>\n",
       "      <td>3</td>\n",
       "      <td>2</td>\n",
       "      <td>4</td>\n",
       "      <td>324</td>\n",
       "      <td>telephony</td>\n",
       "      <td>20.0</td>\n",
       "      <td>31.0</td>\n",
       "      <td>4.0</td>\n",
       "    </tr>\n",
       "    <tr>\n",
       "      <th>0004aac84e0df4da2b147fca70cf8255</th>\n",
       "      <td>sorocaba</td>\n",
       "      <td>337</td>\n",
       "      <td>1</td>\n",
       "      <td>196.89</td>\n",
       "      <td>3</td>\n",
       "      <td>2</td>\n",
       "      <td>1</td>\n",
       "      <td>321</td>\n",
       "      <td>telephony</td>\n",
       "      <td>13.0</td>\n",
       "      <td>20.0</td>\n",
       "      <td>5.0</td>\n",
       "    </tr>\n",
       "    <tr>\n",
       "      <th>...</th>\n",
       "      <td>...</td>\n",
       "      <td>...</td>\n",
       "      <td>...</td>\n",
       "      <td>...</td>\n",
       "      <td>...</td>\n",
       "      <td>...</td>\n",
       "      <td>...</td>\n",
       "      <td>...</td>\n",
       "      <td>...</td>\n",
       "      <td>...</td>\n",
       "      <td>...</td>\n",
       "      <td>...</td>\n",
       "    </tr>\n",
       "    <tr>\n",
       "      <th>fffcf5a5ff07b0908bd4e2dbc735a684</th>\n",
       "      <td>sanharo</td>\n",
       "      <td>496</td>\n",
       "      <td>1</td>\n",
       "      <td>2067.42</td>\n",
       "      <td>4</td>\n",
       "      <td>2</td>\n",
       "      <td>1</td>\n",
       "      <td>421</td>\n",
       "      <td>health_beauty</td>\n",
       "      <td>27.0</td>\n",
       "      <td>54.0</td>\n",
       "      <td>5.0</td>\n",
       "    </tr>\n",
       "    <tr>\n",
       "      <th>fffea47cd6d3cc0a88bd621562a9d061</th>\n",
       "      <td>feira de santana</td>\n",
       "      <td>311</td>\n",
       "      <td>1</td>\n",
       "      <td>84.58</td>\n",
       "      <td>3</td>\n",
       "      <td>2</td>\n",
       "      <td>3</td>\n",
       "      <td>323</td>\n",
       "      <td>baby</td>\n",
       "      <td>30.0</td>\n",
       "      <td>32.0</td>\n",
       "      <td>4.0</td>\n",
       "    </tr>\n",
       "    <tr>\n",
       "      <th>ffff371b4d645b6ecea244b27531430a</th>\n",
       "      <td>sinop</td>\n",
       "      <td>618</td>\n",
       "      <td>1</td>\n",
       "      <td>112.46</td>\n",
       "      <td>4</td>\n",
       "      <td>2</td>\n",
       "      <td>2</td>\n",
       "      <td>422</td>\n",
       "      <td>auto</td>\n",
       "      <td>14.0</td>\n",
       "      <td>44.0</td>\n",
       "      <td>5.0</td>\n",
       "    </tr>\n",
       "    <tr>\n",
       "      <th>ffff5962728ec6157033ef9805bacc48</th>\n",
       "      <td>bom jesus do norte</td>\n",
       "      <td>169</td>\n",
       "      <td>1</td>\n",
       "      <td>133.69</td>\n",
       "      <td>2</td>\n",
       "      <td>2</td>\n",
       "      <td>2</td>\n",
       "      <td>222</td>\n",
       "      <td>watches_gifts</td>\n",
       "      <td>11.0</td>\n",
       "      <td>25.0</td>\n",
       "      <td>5.0</td>\n",
       "    </tr>\n",
       "    <tr>\n",
       "      <th>ffffd2657e2aad2907e67c3e9daecbeb</th>\n",
       "      <td>campo largo</td>\n",
       "      <td>533</td>\n",
       "      <td>1</td>\n",
       "      <td>71.56</td>\n",
       "      <td>4</td>\n",
       "      <td>2</td>\n",
       "      <td>3</td>\n",
       "      <td>423</td>\n",
       "      <td>perfumery</td>\n",
       "      <td>6.0</td>\n",
       "      <td>22.0</td>\n",
       "      <td>5.0</td>\n",
       "    </tr>\n",
       "  </tbody>\n",
       "</table>\n",
       "<p>91078 rows × 12 columns</p>\n",
       "</div>"
      ],
      "text/plain": [
       "                                       customer_city  Recency  Frequency  \\\n",
       "customer_unique_id                                                         \n",
       "0000366f3b9a7992bf8c76cfdf3221e2             cajamar      161          1   \n",
       "0000b849f77a49e4a4ce2b2a4ca5be3f              osasco      164          1   \n",
       "0000f46a3911fa3c0805444483337064            sao jose      586          1   \n",
       "0000f6ccb0745a6a4b88665a16c9f078               belem      370          1   \n",
       "0004aac84e0df4da2b147fca70cf8255            sorocaba      337          1   \n",
       "...                                              ...      ...        ...   \n",
       "fffcf5a5ff07b0908bd4e2dbc735a684             sanharo      496          1   \n",
       "fffea47cd6d3cc0a88bd621562a9d061    feira de santana      311          1   \n",
       "ffff371b4d645b6ecea244b27531430a               sinop      618          1   \n",
       "ffff5962728ec6157033ef9805bacc48  bom jesus do norte      169          1   \n",
       "ffffd2657e2aad2907e67c3e9daecbeb         campo largo      533          1   \n",
       "\n",
       "                                  MonetaryValue r_quartile f_bins m_quartile  \\\n",
       "customer_unique_id                                                             \n",
       "0000366f3b9a7992bf8c76cfdf3221e2         141.90          1      2          2   \n",
       "0000b849f77a49e4a4ce2b2a4ca5be3f          27.19          1      2          4   \n",
       "0000f46a3911fa3c0805444483337064          86.22          4      2          3   \n",
       "0000f6ccb0745a6a4b88665a16c9f078          43.62          3      2          4   \n",
       "0004aac84e0df4da2b147fca70cf8255         196.89          3      2          1   \n",
       "...                                         ...        ...    ...        ...   \n",
       "fffcf5a5ff07b0908bd4e2dbc735a684        2067.42          4      2          1   \n",
       "fffea47cd6d3cc0a88bd621562a9d061          84.58          3      2          3   \n",
       "ffff371b4d645b6ecea244b27531430a         112.46          4      2          2   \n",
       "ffff5962728ec6157033ef9805bacc48         133.69          2      2          2   \n",
       "ffffd2657e2aad2907e67c3e9daecbeb          71.56          4      2          3   \n",
       "\n",
       "                                 RFM_Score product_category_name  \\\n",
       "customer_unique_id                                                 \n",
       "0000366f3b9a7992bf8c76cfdf3221e2       122        bed_bath_table   \n",
       "0000b849f77a49e4a4ce2b2a4ca5be3f       124         health_beauty   \n",
       "0000f46a3911fa3c0805444483337064       423            stationery   \n",
       "0000f6ccb0745a6a4b88665a16c9f078       324             telephony   \n",
       "0004aac84e0df4da2b147fca70cf8255       321             telephony   \n",
       "...                                    ...                   ...   \n",
       "fffcf5a5ff07b0908bd4e2dbc735a684       421         health_beauty   \n",
       "fffea47cd6d3cc0a88bd621562a9d061       323                  baby   \n",
       "ffff371b4d645b6ecea244b27531430a       422                  auto   \n",
       "ffff5962728ec6157033ef9805bacc48       222         watches_gifts   \n",
       "ffffd2657e2aad2907e67c3e9daecbeb       423             perfumery   \n",
       "\n",
       "                                  nb_days_before_delivered  \\\n",
       "customer_unique_id                                           \n",
       "0000366f3b9a7992bf8c76cfdf3221e2                       6.0   \n",
       "0000b849f77a49e4a4ce2b2a4ca5be3f                       2.0   \n",
       "0000f46a3911fa3c0805444483337064                      25.0   \n",
       "0000f6ccb0745a6a4b88665a16c9f078                      20.0   \n",
       "0004aac84e0df4da2b147fca70cf8255                      13.0   \n",
       "...                                                    ...   \n",
       "fffcf5a5ff07b0908bd4e2dbc735a684                      27.0   \n",
       "fffea47cd6d3cc0a88bd621562a9d061                      30.0   \n",
       "ffff371b4d645b6ecea244b27531430a                      14.0   \n",
       "ffff5962728ec6157033ef9805bacc48                      11.0   \n",
       "ffffd2657e2aad2907e67c3e9daecbeb                       6.0   \n",
       "\n",
       "                                  nb_days_before_delivered_estimation  \\\n",
       "customer_unique_id                                                      \n",
       "0000366f3b9a7992bf8c76cfdf3221e2                                 10.0   \n",
       "0000b849f77a49e4a4ce2b2a4ca5be3f                                  7.0   \n",
       "0000f46a3911fa3c0805444483337064                                 27.0   \n",
       "0000f6ccb0745a6a4b88665a16c9f078                                 31.0   \n",
       "0004aac84e0df4da2b147fca70cf8255                                 20.0   \n",
       "...                                                               ...   \n",
       "fffcf5a5ff07b0908bd4e2dbc735a684                                 54.0   \n",
       "fffea47cd6d3cc0a88bd621562a9d061                                 32.0   \n",
       "ffff371b4d645b6ecea244b27531430a                                 44.0   \n",
       "ffff5962728ec6157033ef9805bacc48                                 25.0   \n",
       "ffffd2657e2aad2907e67c3e9daecbeb                                 22.0   \n",
       "\n",
       "                                  review_score  \n",
       "customer_unique_id                              \n",
       "0000366f3b9a7992bf8c76cfdf3221e2           5.0  \n",
       "0000b849f77a49e4a4ce2b2a4ca5be3f           4.0  \n",
       "0000f46a3911fa3c0805444483337064           3.0  \n",
       "0000f6ccb0745a6a4b88665a16c9f078           4.0  \n",
       "0004aac84e0df4da2b147fca70cf8255           5.0  \n",
       "...                                        ...  \n",
       "fffcf5a5ff07b0908bd4e2dbc735a684           5.0  \n",
       "fffea47cd6d3cc0a88bd621562a9d061           4.0  \n",
       "ffff371b4d645b6ecea244b27531430a           5.0  \n",
       "ffff5962728ec6157033ef9805bacc48           5.0  \n",
       "ffffd2657e2aad2907e67c3e9daecbeb           5.0  \n",
       "\n",
       "[91078 rows x 12 columns]"
      ]
     },
     "execution_count": 57,
     "metadata": {},
     "output_type": "execute_result"
    }
   ],
   "source": [
    "data.dropna()"
   ]
  },
  {
   "cell_type": "code",
   "execution_count": 58,
   "id": "b86fab05-a988-49e5-be3c-9a7db15b1541",
   "metadata": {},
   "outputs": [],
   "source": [
    "data_ok = data.copy()"
   ]
  },
  {
   "cell_type": "markdown",
   "id": "3e41e30a-65d8-451b-91cd-3adcbf8c4f9d",
   "metadata": {},
   "source": [
    "### 3. Analyse des données clients"
   ]
  },
  {
   "cell_type": "code",
   "execution_count": 59,
   "id": "8a21e83b-0cd3-41b2-8d8a-51635121f865",
   "metadata": {},
   "outputs": [
    {
     "data": {
      "text/html": [
       "<div>\n",
       "<style scoped>\n",
       "    .dataframe tbody tr th:only-of-type {\n",
       "        vertical-align: middle;\n",
       "    }\n",
       "\n",
       "    .dataframe tbody tr th {\n",
       "        vertical-align: top;\n",
       "    }\n",
       "\n",
       "    .dataframe thead th {\n",
       "        text-align: right;\n",
       "    }\n",
       "</style>\n",
       "<table border=\"1\" class=\"dataframe\">\n",
       "  <thead>\n",
       "    <tr style=\"text-align: right;\">\n",
       "      <th></th>\n",
       "      <th>Recency</th>\n",
       "      <th>Frequency</th>\n",
       "      <th>MonetaryValue</th>\n",
       "      <th>nb_days_before_delivered</th>\n",
       "      <th>nb_days_before_delivered_estimation</th>\n",
       "      <th>review_score</th>\n",
       "    </tr>\n",
       "  </thead>\n",
       "  <tbody>\n",
       "    <tr>\n",
       "      <th>count</th>\n",
       "      <td>93019.000000</td>\n",
       "      <td>93019.000000</td>\n",
       "      <td>93019.000000</td>\n",
       "      <td>93019.000000</td>\n",
       "      <td>93019.000000</td>\n",
       "      <td>92399.000000</td>\n",
       "    </tr>\n",
       "    <tr>\n",
       "      <th>mean</th>\n",
       "      <td>288.698707</td>\n",
       "      <td>1.044013</td>\n",
       "      <td>157.655685</td>\n",
       "      <td>11.681947</td>\n",
       "      <td>22.865565</td>\n",
       "      <td>4.154203</td>\n",
       "    </tr>\n",
       "    <tr>\n",
       "      <th>std</th>\n",
       "      <td>152.734592</td>\n",
       "      <td>0.368773</td>\n",
       "      <td>217.656925</td>\n",
       "      <td>9.550647</td>\n",
       "      <td>8.744014</td>\n",
       "      <td>1.284523</td>\n",
       "    </tr>\n",
       "    <tr>\n",
       "      <th>min</th>\n",
       "      <td>50.000000</td>\n",
       "      <td>1.000000</td>\n",
       "      <td>1.737500</td>\n",
       "      <td>1.000000</td>\n",
       "      <td>1.000000</td>\n",
       "      <td>1.000000</td>\n",
       "    </tr>\n",
       "    <tr>\n",
       "      <th>25%</th>\n",
       "      <td>165.000000</td>\n",
       "      <td>1.000000</td>\n",
       "      <td>60.220000</td>\n",
       "      <td>6.000000</td>\n",
       "      <td>17.000000</td>\n",
       "      <td>4.000000</td>\n",
       "    </tr>\n",
       "    <tr>\n",
       "      <th>50%</th>\n",
       "      <td>270.000000</td>\n",
       "      <td>1.000000</td>\n",
       "      <td>103.280000</td>\n",
       "      <td>9.000000</td>\n",
       "      <td>22.000000</td>\n",
       "      <td>5.000000</td>\n",
       "    </tr>\n",
       "    <tr>\n",
       "      <th>75%</th>\n",
       "      <td>398.000000</td>\n",
       "      <td>1.000000</td>\n",
       "      <td>174.500000</td>\n",
       "      <td>15.000000</td>\n",
       "      <td>28.000000</td>\n",
       "      <td>5.000000</td>\n",
       "    </tr>\n",
       "    <tr>\n",
       "      <th>max</th>\n",
       "      <td>745.000000</td>\n",
       "      <td>26.000000</td>\n",
       "      <td>13664.080000</td>\n",
       "      <td>208.000000</td>\n",
       "      <td>153.000000</td>\n",
       "      <td>5.000000</td>\n",
       "    </tr>\n",
       "  </tbody>\n",
       "</table>\n",
       "</div>"
      ],
      "text/plain": [
       "            Recency     Frequency  MonetaryValue  nb_days_before_delivered  \\\n",
       "count  93019.000000  93019.000000   93019.000000              93019.000000   \n",
       "mean     288.698707      1.044013     157.655685                 11.681947   \n",
       "std      152.734592      0.368773     217.656925                  9.550647   \n",
       "min       50.000000      1.000000       1.737500                  1.000000   \n",
       "25%      165.000000      1.000000      60.220000                  6.000000   \n",
       "50%      270.000000      1.000000     103.280000                  9.000000   \n",
       "75%      398.000000      1.000000     174.500000                 15.000000   \n",
       "max      745.000000     26.000000   13664.080000                208.000000   \n",
       "\n",
       "       nb_days_before_delivered_estimation  review_score  \n",
       "count                         93019.000000  92399.000000  \n",
       "mean                             22.865565      4.154203  \n",
       "std                               8.744014      1.284523  \n",
       "min                               1.000000      1.000000  \n",
       "25%                              17.000000      4.000000  \n",
       "50%                              22.000000      5.000000  \n",
       "75%                              28.000000      5.000000  \n",
       "max                             153.000000      5.000000  "
      ]
     },
     "execution_count": 59,
     "metadata": {},
     "output_type": "execute_result"
    }
   ],
   "source": [
    "# Descriptive statistics\n",
    "data.describe()"
   ]
  },
  {
   "cell_type": "markdown",
   "id": "0dcb5266-4718-42fd-be87-8aa3facae903",
   "metadata": {},
   "source": [
    "#### a. Analyses univariées des variables utilisées pour la segmentation"
   ]
  },
  {
   "cell_type": "code",
   "execution_count": 60,
   "id": "d4a95891-c728-4dda-a477-76d5004709c8",
   "metadata": {},
   "outputs": [
    {
     "data": {
      "image/png": "[encoded data removed]",
      "text/plain": [
       "<Figure size 1080x360 with 2 Axes>"
      ]
     },
     "metadata": {},
     "output_type": "display_data"
    }
   ],
   "source": [
    "fig, axes = plt.subplots(1, 2, figsize=(15, 5))\n",
    "fig.suptitle('Description du nombre de jours entre la commande et la réception (réalité)')\n",
    "\n",
    "sns.histplot(ax=axes[0], x=\"nb_days_before_delivered\", data=data, kde=True)\n",
    "axes[0].set_title(\"Distribution du nombre de jours entre la commande et la réception (réalité)\")\n",
    "\n",
    "sns.boxplot(ax=axes[1], x=\"nb_days_before_delivered\", data=data)\n",
    "axes[1].set_title(\"Boxplot du nombre de jours entre la commande et la réception (réalité)\")\n",
    "\n",
    "plt.show()"
   ]
  },
  {
   "cell_type": "code",
   "execution_count": 61,
   "id": "72b3317c-a133-4be2-a6f3-602084256b98",
   "metadata": {},
   "outputs": [
    {
     "data": {
      "image/png": "[encoded data removed]",
      "text/plain": [
       "<Figure size 1080x360 with 2 Axes>"
      ]
     },
     "metadata": {},
     "output_type": "display_data"
    }
   ],
   "source": [
    "fig, axes = plt.subplots(1, 2, figsize=(15, 5), sharex=True)\n",
    "fig.suptitle('Description du nombre de jours entre la commande et la réception (estimation)')\n",
    "\n",
    "sns.histplot(ax=axes[0], x=\"nb_days_before_delivered_estimation\", data=data, kde=True)\n",
    "axes[0].set_title(\"Distribution du nombre de jours entre la commande et la réception (estimation)\")\n",
    "\n",
    "sns.boxplot(ax=axes[1], x=\"nb_days_before_delivered_estimation\", data=data)\n",
    "axes[1].set_title(\"Boxplot du nombre de jours entre la commande et la réception (estimation)\")\n",
    "\n",
    "plt.show()"
   ]
  },
  {
   "cell_type": "code",
   "execution_count": 62,
   "id": "fceeeec0-a2d5-4120-912d-674aa9532a89",
   "metadata": {},
   "outputs": [
    {
     "data": {
      "image/png": "[encoded data removed]",
      "text/plain": [
       "<Figure size 1080x360 with 2 Axes>"
      ]
     },
     "metadata": {},
     "output_type": "display_data"
    }
   ],
   "source": [
    "fig, axes = plt.subplots(1, 2, figsize=(15, 5), sharex=False)\n",
    "fig.suptitle('Description des avis clients')\n",
    "\n",
    "sns.countplot(ax=axes[0], y=\"review_score\", data=data)\n",
    "axes[0].set_title(\"Distribution des avis clients\")\n",
    "\n",
    "sns.boxplot(ax=axes[1], x=\"review_score\", data=data)\n",
    "axes[1].set_title(\"Boxplot des avis clients\")\n",
    "\n",
    "plt.show()"
   ]
  },
  {
   "cell_type": "code",
   "execution_count": 63,
   "id": "a892b790-bf18-41f7-8345-7a90bd6a1d8c",
   "metadata": {},
   "outputs": [],
   "source": [
    "data.drop(\"nb_days_before_delivered_estimation\", axis=1, inplace=True)\n",
    "data.to_csv(\"data_clustering_complete.csv\")"
   ]
  },
  {
   "cell_type": "markdown",
   "id": "e7c3b378-0eb3-40be-952a-ea352072dfe4",
   "metadata": {},
   "source": [
    "_____________________________________________________________________"
   ]
  },
  {
   "cell_type": "markdown",
   "id": "4419ea88-321b-4ff3-989e-d00d2d0c7924",
   "metadata": {},
   "source": [
    "## Création d'un dataset restreint"
   ]
  },
  {
   "cell_type": "code",
   "execution_count": 64,
   "id": "91bdcc02-cf39-4769-a902-a3212d0025f1",
   "metadata": {},
   "outputs": [
    {
     "data": {
      "text/plain": [
       "2754"
      ]
     },
     "execution_count": 64,
     "metadata": {},
     "output_type": "execute_result"
    }
   ],
   "source": [
    "len(data.loc[data[\"Frequency\"] != 1])"
   ]
  },
  {
   "cell_type": "markdown",
   "id": "6fb8983c-3e06-4b46-a2a5-fb7bc963a0ff",
   "metadata": {},
   "source": [
    "On remarque que l'on a 2754 clients dans notre jeu de données dont la fréquence d'achats est différent de 0. On va donc se servir de ces clients et sélectionner l'équivalent de 40% de clients ayant effectué un achat. Ainsi la fréquence et la récence pourront être exploités par la suite car elles seront plus discriminantes."
   ]
  },
  {
   "cell_type": "code",
   "execution_count": 65,
   "id": "7ea74cea-c176-485f-9704-2d555f6cfe97",
   "metadata": {},
   "outputs": [],
   "source": [
    "freq_1 = data.loc[data[\"Frequency\"] == 1]"
   ]
  },
  {
   "cell_type": "code",
   "execution_count": 66,
   "id": "a6218786-e3ee-40c5-b62a-c70b9cf46adf",
   "metadata": {},
   "outputs": [],
   "source": [
    "freq_1= freq_1.sample(frac=0.4)"
   ]
  },
  {
   "cell_type": "code",
   "execution_count": 67,
   "id": "16044456-b133-4a79-91b3-d09b1b6aca54",
   "metadata": {},
   "outputs": [],
   "source": [
    "df = data.loc[data[\"Frequency\"] != 1]"
   ]
  },
  {
   "cell_type": "code",
   "execution_count": 68,
   "id": "724342df-f6d2-43e0-9142-bd40d605ebc4",
   "metadata": {},
   "outputs": [],
   "source": [
    "df = df.append(freq_1)"
   ]
  },
  {
   "cell_type": "code",
   "execution_count": 69,
   "id": "5937ef67-a558-4912-bcc8-55ed6bfa9403",
   "metadata": {},
   "outputs": [
    {
     "name": "stdout",
     "output_type": "stream",
     "text": [
      "<class 'pandas.core.frame.DataFrame'>\n",
      "Index: 38860 entries, 000e309254ab1fc5ba99dd469d36bdb4 to e3b95b3a21f997d5d3e88954f5ff074a\n",
      "Data columns (total 11 columns):\n",
      " #   Column                    Non-Null Count  Dtype   \n",
      "---  ------                    --------------  -----   \n",
      " 0   customer_city             38860 non-null  object  \n",
      " 1   Recency                   38860 non-null  int64   \n",
      " 2   Frequency                 38860 non-null  int64   \n",
      " 3   MonetaryValue             38860 non-null  float64 \n",
      " 4   r_quartile                38860 non-null  category\n",
      " 5   f_bins                    38860 non-null  category\n",
      " 6   m_quartile                38860 non-null  category\n",
      " 7   RFM_Score                 38860 non-null  object  \n",
      " 8   product_category_name     38323 non-null  object  \n",
      " 9   nb_days_before_delivered  38860 non-null  float64 \n",
      " 10  review_score              38588 non-null  float64 \n",
      "dtypes: category(3), float64(3), int64(2), object(3)\n",
      "memory usage: 2.8+ MB\n"
     ]
    }
   ],
   "source": [
    "df.info()"
   ]
  },
  {
   "cell_type": "markdown",
   "id": "d367ed8c-7373-4e0e-a297-d67431163133",
   "metadata": {},
   "source": [
    "### Analyses statistiques"
   ]
  },
  {
   "cell_type": "code",
   "execution_count": 70,
   "id": "61645ad8-a3cb-49be-88ff-104048284fbd",
   "metadata": {},
   "outputs": [],
   "source": [
    "df.reset_index(inplace=True)"
   ]
  },
  {
   "cell_type": "code",
   "execution_count": 71,
   "id": "1be42ea9-6a10-4ac4-a7c0-ff0bb648e1c7",
   "metadata": {},
   "outputs": [
    {
     "data": {
      "text/html": [
       "<div>\n",
       "<style scoped>\n",
       "    .dataframe tbody tr th:only-of-type {\n",
       "        vertical-align: middle;\n",
       "    }\n",
       "\n",
       "    .dataframe tbody tr th {\n",
       "        vertical-align: top;\n",
       "    }\n",
       "\n",
       "    .dataframe thead th {\n",
       "        text-align: right;\n",
       "    }\n",
       "</style>\n",
       "<table border=\"1\" class=\"dataframe\">\n",
       "  <thead>\n",
       "    <tr style=\"text-align: right;\">\n",
       "      <th></th>\n",
       "      <th>Recency</th>\n",
       "      <th>Frequency</th>\n",
       "      <th>MonetaryValue</th>\n",
       "      <th>nb_days_before_delivered</th>\n",
       "      <th>review_score</th>\n",
       "    </tr>\n",
       "  </thead>\n",
       "  <tbody>\n",
       "    <tr>\n",
       "      <th>count</th>\n",
       "      <td>38860.000000</td>\n",
       "      <td>38860.000000</td>\n",
       "      <td>38860.000000</td>\n",
       "      <td>38860.000000</td>\n",
       "      <td>38588.000000</td>\n",
       "    </tr>\n",
       "    <tr>\n",
       "      <th>mean</th>\n",
       "      <td>289.446166</td>\n",
       "      <td>1.105353</td>\n",
       "      <td>153.672695</td>\n",
       "      <td>11.718785</td>\n",
       "      <td>4.154318</td>\n",
       "    </tr>\n",
       "    <tr>\n",
       "      <th>std</th>\n",
       "      <td>152.940049</td>\n",
       "      <td>0.564862</td>\n",
       "      <td>202.139701</td>\n",
       "      <td>9.441790</td>\n",
       "      <td>1.282063</td>\n",
       "    </tr>\n",
       "    <tr>\n",
       "      <th>min</th>\n",
       "      <td>50.000000</td>\n",
       "      <td>1.000000</td>\n",
       "      <td>1.737500</td>\n",
       "      <td>1.000000</td>\n",
       "      <td>1.000000</td>\n",
       "    </tr>\n",
       "    <tr>\n",
       "      <th>25%</th>\n",
       "      <td>165.000000</td>\n",
       "      <td>1.000000</td>\n",
       "      <td>57.875000</td>\n",
       "      <td>6.000000</td>\n",
       "      <td>4.000000</td>\n",
       "    </tr>\n",
       "    <tr>\n",
       "      <th>50%</th>\n",
       "      <td>271.000000</td>\n",
       "      <td>1.000000</td>\n",
       "      <td>100.620000</td>\n",
       "      <td>9.000000</td>\n",
       "      <td>5.000000</td>\n",
       "    </tr>\n",
       "    <tr>\n",
       "      <th>75%</th>\n",
       "      <td>400.000000</td>\n",
       "      <td>1.000000</td>\n",
       "      <td>171.045000</td>\n",
       "      <td>15.000000</td>\n",
       "      <td>5.000000</td>\n",
       "    </tr>\n",
       "    <tr>\n",
       "      <th>max</th>\n",
       "      <td>744.000000</td>\n",
       "      <td>26.000000</td>\n",
       "      <td>4681.780000</td>\n",
       "      <td>194.000000</td>\n",
       "      <td>5.000000</td>\n",
       "    </tr>\n",
       "  </tbody>\n",
       "</table>\n",
       "</div>"
      ],
      "text/plain": [
       "            Recency     Frequency  MonetaryValue  nb_days_before_delivered  \\\n",
       "count  38860.000000  38860.000000   38860.000000              38860.000000   \n",
       "mean     289.446166      1.105353     153.672695                 11.718785   \n",
       "std      152.940049      0.564862     202.139701                  9.441790   \n",
       "min       50.000000      1.000000       1.737500                  1.000000   \n",
       "25%      165.000000      1.000000      57.875000                  6.000000   \n",
       "50%      271.000000      1.000000     100.620000                  9.000000   \n",
       "75%      400.000000      1.000000     171.045000                 15.000000   \n",
       "max      744.000000     26.000000    4681.780000                194.000000   \n",
       "\n",
       "       review_score  \n",
       "count  38588.000000  \n",
       "mean       4.154318  \n",
       "std        1.282063  \n",
       "min        1.000000  \n",
       "25%        4.000000  \n",
       "50%        5.000000  \n",
       "75%        5.000000  \n",
       "max        5.000000  "
      ]
     },
     "execution_count": 71,
     "metadata": {},
     "output_type": "execute_result"
    }
   ],
   "source": [
    "df.describe()"
   ]
  },
  {
   "cell_type": "code",
   "execution_count": 72,
   "id": "f0d37c08-116d-41ab-8d4c-76e22a3941ca",
   "metadata": {},
   "outputs": [
    {
     "data": {
      "image/png": "[encoded data removed]",
      "text/plain": [
       "<Figure size 1080x360 with 2 Axes>"
      ]
     },
     "metadata": {},
     "output_type": "display_data"
    }
   ],
   "source": [
    "fig, axes = plt.subplots(1, 2, figsize=(15, 5))\n",
    "fig.suptitle('Description du nombre de jours entre la commande et la réception')\n",
    "\n",
    "sns.histplot(ax=axes[0], x=\"nb_days_before_delivered\", data=df, kde=True)\n",
    "axes[0].set_title(\"Distribution du nombre de jours entre la commande et la réception\")\n",
    "\n",
    "sns.boxplot(ax=axes[1], x=\"nb_days_before_delivered\", data=df)\n",
    "axes[1].set_title(\"Boxplot du nombre de jours entre la commande et la réception\")\n",
    "\n",
    "plt.show()"
   ]
  },
  {
   "cell_type": "code",
   "execution_count": 73,
   "id": "73c4d194-95a1-484f-9370-e8bf56746571",
   "metadata": {},
   "outputs": [
    {
     "data": {
      "image/png": "[encoded data removed]",
      "text/plain": [
       "<Figure size 1080x360 with 2 Axes>"
      ]
     },
     "metadata": {},
     "output_type": "display_data"
    }
   ],
   "source": [
    "fig, axes = plt.subplots(1, 2, figsize=(15, 5), sharex=False)\n",
    "fig.suptitle('Description des avis clients')\n",
    "\n",
    "sns.countplot(ax=axes[0], y=\"review_score\", data=df)\n",
    "axes[0].set_title(\"Distribution des avis clients\")\n",
    "\n",
    "sns.boxplot(ax=axes[1], x=\"review_score\", data=df)\n",
    "axes[1].set_title(\"Boxplot des avis clients\")\n",
    "\n",
    "plt.show()"
   ]
  },
  {
   "cell_type": "code",
   "execution_count": 74,
   "id": "c70506a2-5c35-4fa7-a998-ff8242e55dfc",
   "metadata": {},
   "outputs": [
    {
     "data": {
      "image/png": "[encoded data removed]",
      "text/plain": [
       "<Figure size 1080x360 with 2 Axes>"
      ]
     },
     "metadata": {},
     "output_type": "display_data"
    }
   ],
   "source": [
    "fig, axes = plt.subplots(1, 2, figsize=(15, 5))\n",
    "fig.suptitle(\"Description de la fréquence d\\'achats\")\n",
    "\n",
    "sns.countplot(ax=axes[0], y=\"Frequency\", data=df)\n",
    "axes[0].set_title(\"Distribution de la fréquence d\\'achats\")\n",
    "\n",
    "sns.boxplot(ax=axes[1], x=\"Frequency\", data=df)\n",
    "axes[1].set_title(\"Boxplot de la la fréquence d\\'achats\")\n",
    "\n",
    "plt.show()"
   ]
  },
  {
   "cell_type": "code",
   "execution_count": 75,
   "id": "efbedf25-9130-4207-9c0f-c09b43f565a3",
   "metadata": {},
   "outputs": [
    {
     "data": {
      "image/png": "[encoded data removed]",
      "text/plain": [
       "<Figure size 1080x360 with 2 Axes>"
      ]
     },
     "metadata": {},
     "output_type": "display_data"
    }
   ],
   "source": [
    "fig, axes = plt.subplots(1, 2, figsize=(15, 5), sharex=True)\n",
    "fig.suptitle(\"Description de la récence des achats\")\n",
    "\n",
    "sns.histplot(ax=axes[0], x=\"Recency\", data=df, kde=True)\n",
    "axes[0].set_title(\"Distribution de la récence des achats\")\n",
    "\n",
    "sns.boxplot(ax=axes[1], x=\"Recency\", data=df)\n",
    "axes[1].set_title(\"Boxplot de la récence des achats\")\n",
    "\n",
    "plt.show()"
   ]
  },
  {
   "cell_type": "code",
   "execution_count": 76,
   "id": "747af2f3-e33b-4cc0-b576-94794ae1c1be",
   "metadata": {},
   "outputs": [
    {
     "data": {
      "image/png": "[encoded data removed]",
      "text/plain": [
       "<Figure size 1080x360 with 2 Axes>"
      ]
     },
     "metadata": {},
     "output_type": "display_data"
    }
   ],
   "source": [
    "fig, axes = plt.subplots(1, 2, figsize=(15, 5), sharex=True)\n",
    "fig.suptitle(\"Description de la moyenne des achats réalisés\")\n",
    "\n",
    "sns.histplot(ax=axes[0], x=\"MonetaryValue\", data=df, kde=True)\n",
    "axes[0].set_title(\"Distribution de la moyenne des achats réalisés\")\n",
    "\n",
    "sns.boxplot(ax=axes[1], x=\"MonetaryValue\", data=df)\n",
    "axes[1].set_title(\"Boxplot de la moyenne des achats réalisés\")\n",
    "\n",
    "plt.show()"
   ]
  },
  {
   "cell_type": "markdown",
   "id": "2e1798ca-bc6e-4f7f-84bf-be084a9d454e",
   "metadata": {},
   "source": [
    "### Segmentation RFM"
   ]
  },
  {
   "cell_type": "code",
   "execution_count": 77,
   "id": "fbadfb74-5258-4d67-9951-f33b968ad745",
   "metadata": {},
   "outputs": [
    {
     "data": {
      "text/html": [
       "<div>\n",
       "<style scoped>\n",
       "    .dataframe tbody tr th:only-of-type {\n",
       "        vertical-align: middle;\n",
       "    }\n",
       "\n",
       "    .dataframe tbody tr th {\n",
       "        vertical-align: top;\n",
       "    }\n",
       "\n",
       "    .dataframe thead th {\n",
       "        text-align: right;\n",
       "    }\n",
       "</style>\n",
       "<table border=\"1\" class=\"dataframe\">\n",
       "  <thead>\n",
       "    <tr style=\"text-align: right;\">\n",
       "      <th></th>\n",
       "      <th>customer_city</th>\n",
       "      <th>Recency</th>\n",
       "      <th>Frequency</th>\n",
       "      <th>MonetaryValue</th>\n",
       "      <th>r_quartile</th>\n",
       "      <th>f_bins</th>\n",
       "      <th>m_quartile</th>\n",
       "      <th>RFM_Score</th>\n",
       "      <th>product_category_name</th>\n",
       "      <th>nb_days_before_delivered</th>\n",
       "      <th>review_score</th>\n",
       "    </tr>\n",
       "    <tr>\n",
       "      <th>customer_unique_id</th>\n",
       "      <th></th>\n",
       "      <th></th>\n",
       "      <th></th>\n",
       "      <th></th>\n",
       "      <th></th>\n",
       "      <th></th>\n",
       "      <th></th>\n",
       "      <th></th>\n",
       "      <th></th>\n",
       "      <th></th>\n",
       "      <th></th>\n",
       "    </tr>\n",
       "  </thead>\n",
       "  <tbody>\n",
       "    <tr>\n",
       "      <th>000e309254ab1fc5ba99dd469d36bdb4</th>\n",
       "      <td>valparaiso de goias</td>\n",
       "      <td>115</td>\n",
       "      <td>2</td>\n",
       "      <td>39.210</td>\n",
       "      <td>1</td>\n",
       "      <td>2</td>\n",
       "      <td>4</td>\n",
       "      <td>124</td>\n",
       "      <td>fashion_underwear_beach</td>\n",
       "      <td>14.0</td>\n",
       "      <td>3.0</td>\n",
       "    </tr>\n",
       "    <tr>\n",
       "      <th>0028a7d8db7b0247652509358ad8d755</th>\n",
       "      <td>valinhos</td>\n",
       "      <td>309</td>\n",
       "      <td>2</td>\n",
       "      <td>177.435</td>\n",
       "      <td>3</td>\n",
       "      <td>2</td>\n",
       "      <td>1</td>\n",
       "      <td>321</td>\n",
       "      <td>office_furniture</td>\n",
       "      <td>23.0</td>\n",
       "      <td>3.0</td>\n",
       "    </tr>\n",
       "    <tr>\n",
       "      <th>00324c9f4d710e7bac5c5ba679714430</th>\n",
       "      <td>paraiso do tocantins</td>\n",
       "      <td>483</td>\n",
       "      <td>2</td>\n",
       "      <td>54.890</td>\n",
       "      <td>4</td>\n",
       "      <td>2</td>\n",
       "      <td>4</td>\n",
       "      <td>424</td>\n",
       "      <td>housewares</td>\n",
       "      <td>12.0</td>\n",
       "      <td>5.0</td>\n",
       "    </tr>\n",
       "  </tbody>\n",
       "</table>\n",
       "</div>"
      ],
      "text/plain": [
       "                                         customer_city  Recency  Frequency  \\\n",
       "customer_unique_id                                                           \n",
       "000e309254ab1fc5ba99dd469d36bdb4   valparaiso de goias      115          2   \n",
       "0028a7d8db7b0247652509358ad8d755              valinhos      309          2   \n",
       "00324c9f4d710e7bac5c5ba679714430  paraiso do tocantins      483          2   \n",
       "\n",
       "                                  MonetaryValue r_quartile f_bins m_quartile  \\\n",
       "customer_unique_id                                                             \n",
       "000e309254ab1fc5ba99dd469d36bdb4         39.210          1      2          4   \n",
       "0028a7d8db7b0247652509358ad8d755        177.435          3      2          1   \n",
       "00324c9f4d710e7bac5c5ba679714430         54.890          4      2          4   \n",
       "\n",
       "                                 RFM_Score    product_category_name  \\\n",
       "customer_unique_id                                                    \n",
       "000e309254ab1fc5ba99dd469d36bdb4       124  fashion_underwear_beach   \n",
       "0028a7d8db7b0247652509358ad8d755       321         office_furniture   \n",
       "00324c9f4d710e7bac5c5ba679714430       424               housewares   \n",
       "\n",
       "                                  nb_days_before_delivered  review_score  \n",
       "customer_unique_id                                                        \n",
       "000e309254ab1fc5ba99dd469d36bdb4                      14.0           3.0  \n",
       "0028a7d8db7b0247652509358ad8d755                      23.0           3.0  \n",
       "00324c9f4d710e7bac5c5ba679714430                      12.0           5.0  "
      ]
     },
     "execution_count": 77,
     "metadata": {},
     "output_type": "execute_result"
    }
   ],
   "source": [
    "df.set_index(\"customer_unique_id\", inplace=True)\n",
    "df.head(3)"
   ]
  },
  {
   "cell_type": "code",
   "execution_count": 78,
   "id": "1acb5df8-d402-4ae9-885c-2f75827de466",
   "metadata": {},
   "outputs": [],
   "source": [
    "# Calculation of scores with the help of quartiles\n",
    "# Except for the frequency\n",
    "data = pd.DataFrame()\n",
    "data['r_quartile'] = pd.qcut(df['Recency'], 4, ['1', '2', '3', '4'])\n",
    "data['f_bins'] = pd.cut(df['Frequency'], 4, labels=['4', '3','2', '1'])\n",
    "data['m_quartile'] = pd.qcut(df['MonetaryValue'], 4, ['4', '3', '2', '1'])"
   ]
  },
  {
   "cell_type": "code",
   "execution_count": 79,
   "id": "bfebed15-a259-4202-add9-ce9d420cf16c",
   "metadata": {},
   "outputs": [
    {
     "data": {
      "text/html": [
       "<div>\n",
       "<style scoped>\n",
       "    .dataframe tbody tr th:only-of-type {\n",
       "        vertical-align: middle;\n",
       "    }\n",
       "\n",
       "    .dataframe tbody tr th {\n",
       "        vertical-align: top;\n",
       "    }\n",
       "\n",
       "    .dataframe thead th {\n",
       "        text-align: right;\n",
       "    }\n",
       "</style>\n",
       "<table border=\"1\" class=\"dataframe\">\n",
       "  <thead>\n",
       "    <tr style=\"text-align: right;\">\n",
       "      <th></th>\n",
       "      <th>r_quartile</th>\n",
       "      <th>f_bins</th>\n",
       "      <th>m_quartile</th>\n",
       "      <th>RFM_Score</th>\n",
       "    </tr>\n",
       "    <tr>\n",
       "      <th>customer_unique_id</th>\n",
       "      <th></th>\n",
       "      <th></th>\n",
       "      <th></th>\n",
       "      <th></th>\n",
       "    </tr>\n",
       "  </thead>\n",
       "  <tbody>\n",
       "    <tr>\n",
       "      <th>301d1ce5a76b7e1bc47e5115bf5eb6ba</th>\n",
       "      <td>1</td>\n",
       "      <td>2</td>\n",
       "      <td>4</td>\n",
       "      <td>124</td>\n",
       "    </tr>\n",
       "    <tr>\n",
       "      <th>c63a8c4fb13043a3fbe33bd17c69d17d</th>\n",
       "      <td>1</td>\n",
       "      <td>3</td>\n",
       "      <td>4</td>\n",
       "      <td>134</td>\n",
       "    </tr>\n",
       "    <tr>\n",
       "      <th>680c14b53034e983c1e2dd6617bfeb42</th>\n",
       "      <td>1</td>\n",
       "      <td>4</td>\n",
       "      <td>1</td>\n",
       "      <td>141</td>\n",
       "    </tr>\n",
       "    <tr>\n",
       "      <th>180ce6c4e74b5e16c027958bf2241881</th>\n",
       "      <td>1</td>\n",
       "      <td>4</td>\n",
       "      <td>1</td>\n",
       "      <td>141</td>\n",
       "    </tr>\n",
       "    <tr>\n",
       "      <th>613414e80c8cc14aaad29edb20bae5e5</th>\n",
       "      <td>1</td>\n",
       "      <td>4</td>\n",
       "      <td>1</td>\n",
       "      <td>141</td>\n",
       "    </tr>\n",
       "    <tr>\n",
       "      <th>...</th>\n",
       "      <td>...</td>\n",
       "      <td>...</td>\n",
       "      <td>...</td>\n",
       "      <td>...</td>\n",
       "    </tr>\n",
       "    <tr>\n",
       "      <th>1cc48564488184883cc7923b82c7b3f9</th>\n",
       "      <td>4</td>\n",
       "      <td>4</td>\n",
       "      <td>4</td>\n",
       "      <td>444</td>\n",
       "    </tr>\n",
       "    <tr>\n",
       "      <th>e5c5fd4bd91b5fdf7b7d3c7c1f614415</th>\n",
       "      <td>4</td>\n",
       "      <td>4</td>\n",
       "      <td>4</td>\n",
       "      <td>444</td>\n",
       "    </tr>\n",
       "    <tr>\n",
       "      <th>4994e3301734485d0f0f448377068f3d</th>\n",
       "      <td>4</td>\n",
       "      <td>4</td>\n",
       "      <td>4</td>\n",
       "      <td>444</td>\n",
       "    </tr>\n",
       "    <tr>\n",
       "      <th>f1b0e152c33e0140c7f4c3573d9ceaa6</th>\n",
       "      <td>4</td>\n",
       "      <td>4</td>\n",
       "      <td>4</td>\n",
       "      <td>444</td>\n",
       "    </tr>\n",
       "    <tr>\n",
       "      <th>d7dcb6a86716cae0bae52007bd8b7822</th>\n",
       "      <td>4</td>\n",
       "      <td>4</td>\n",
       "      <td>4</td>\n",
       "      <td>444</td>\n",
       "    </tr>\n",
       "  </tbody>\n",
       "</table>\n",
       "<p>38860 rows × 4 columns</p>\n",
       "</div>"
      ],
      "text/plain": [
       "                                 r_quartile f_bins m_quartile RFM_Score\n",
       "customer_unique_id                                                     \n",
       "301d1ce5a76b7e1bc47e5115bf5eb6ba          1      2          4       124\n",
       "c63a8c4fb13043a3fbe33bd17c69d17d          1      3          4       134\n",
       "680c14b53034e983c1e2dd6617bfeb42          1      4          1       141\n",
       "180ce6c4e74b5e16c027958bf2241881          1      4          1       141\n",
       "613414e80c8cc14aaad29edb20bae5e5          1      4          1       141\n",
       "...                                     ...    ...        ...       ...\n",
       "1cc48564488184883cc7923b82c7b3f9          4      4          4       444\n",
       "e5c5fd4bd91b5fdf7b7d3c7c1f614415          4      4          4       444\n",
       "4994e3301734485d0f0f448377068f3d          4      4          4       444\n",
       "f1b0e152c33e0140c7f4c3573d9ceaa6          4      4          4       444\n",
       "d7dcb6a86716cae0bae52007bd8b7822          4      4          4       444\n",
       "\n",
       "[38860 rows x 4 columns]"
      ]
     },
     "execution_count": 79,
     "metadata": {},
     "output_type": "execute_result"
    }
   ],
   "source": [
    "# Creation of RFM Score with the concatenation of\n",
    "# R, F & M quartile/bins\n",
    "data['RFM_Score'] = data[\"r_quartile\"].astype(str) \\\n",
    "                    + data[\"f_bins\"].astype(str) \\\n",
    "                    + data[\"m_quartile\"].astype(str)\n",
    "data.sort_values(\"RFM_Score\", ascending=True)"
   ]
  },
  {
   "cell_type": "code",
   "execution_count": 80,
   "id": "e221a49e-e683-47d2-977d-652c1bb40e2f",
   "metadata": {},
   "outputs": [],
   "source": [
    "customers = pd.DataFrame()\n",
    "customers[\"Recency\"] = np.log1p(df['Recency'])\n",
    "customers[\"Frequency\"] = np.log1p(df[\"Frequency\"])\n",
    "customers[\"MonetaryValue\"] = np.log1p(df[\"MonetaryValue\"])\n",
    "customers.reset_index(inplace=True)"
   ]
  },
  {
   "cell_type": "code",
   "execution_count": 81,
   "id": "df92bce9-dc1a-4ef7-a104-a2ac9f5586d6",
   "metadata": {},
   "outputs": [
    {
     "data": {
      "image/png": "[encoded data removed]",
      "text/plain": [
       "<Figure size 1080x360 with 3 Axes>"
      ]
     },
     "metadata": {},
     "output_type": "display_data"
    }
   ],
   "source": [
    "fig, axes = plt.subplots(1, 3, figsize=(15, 5), sharex=True)\n",
    "fig.suptitle('Distribution des variables après transformation logarithme (+1)')\n",
    "\n",
    "sns.histplot(ax=axes[0], x=\"Recency\", data=customers, kde=True)\n",
    "axes[0].set_title(\"Distribution des jours passés depuis la dernière commande\")\n",
    "\n",
    "sns.histplot(ax=axes[1], x=\"Frequency\", data=customers, kde=True)\n",
    "axes[1].set_title(\"Distribution de la fréquence d'achats des clients\")\n",
    "\n",
    "sns.histplot(ax=axes[2], x=\"MonetaryValue\", data=customers, kde=True)\n",
    "axes[2].set_title(\"Distribution des sommes dépensées par les clients\")\n",
    "\n",
    "plt.tight_layout()\n",
    "plt.show()"
   ]
  },
  {
   "cell_type": "code",
   "execution_count": 82,
   "id": "5e591966-2daf-4872-b124-a1d8faa85231",
   "metadata": {},
   "outputs": [],
   "source": [
    "customers.set_index(\"customer_unique_id\", inplace=True)"
   ]
  },
  {
   "cell_type": "code",
   "execution_count": 83,
   "id": "24e609ca-fecf-43ae-8062-4912fffc8924",
   "metadata": {},
   "outputs": [
    {
     "name": "stdout",
     "output_type": "stream",
     "text": [
      "Mean: [-0. -0. -0.]\n",
      "Standard Deviation: [1. 1. 1.]\n"
     ]
    }
   ],
   "source": [
    "scaler = StandardScaler()\n",
    "\n",
    "scaler.fit(customers)\n",
    "customers_normalized = scaler.transform(customers)\n",
    "\n",
    "print(\"Mean:\", customers_normalized.mean(axis=0).round(2))\n",
    "print(\"Standard Deviation:\", customers_normalized.std(axis=0).round(2))"
   ]
  },
  {
   "cell_type": "markdown",
   "id": "f6b5a307-84db-49bc-871e-0d65fd666872",
   "metadata": {},
   "source": [
    "La transformation logarithmique a permis de modifier la forme de la distribution des variables Recency et MonetaryValue pour qu'elle soit proche d'une distribution normale. Cette modification permet de rendre les modèles d'apprentissage non-supervisé comme l'algorithme K-Means d'être plus performant.\n",
    "\n",
    "Une seconde étape a été de standardiser nos données. Ainsi, nos données ont toutes une moyenne de 0 avec un écart-type de 1. Là, encore cette modification a pour but d'améliorer la performance de nos modèles d'apprentissage non-supervisé."
   ]
  },
  {
   "cell_type": "markdown",
   "id": "2ff8c9d9-c1cb-4624-b687-50c94acc8605",
   "metadata": {},
   "source": [
    "### Réduction de dimensions"
   ]
  },
  {
   "cell_type": "markdown",
   "id": "4e83ca83-212e-4525-8a17-e1703e3c6db9",
   "metadata": {},
   "source": [
    "La réduction de dimension a pour but de faciliter la visualisation de nos données en les ramenant dans un espace en 2 dimensions (même si dans ce cas, il aurait possible de les visualiser en 3 dimensions). De plus, la réduction de dimensions permet de diminuer le temps de calcul des algorithmes de clustering."
   ]
  },
  {
   "cell_type": "code",
   "execution_count": 84,
   "id": "032d3ba0-8e8f-411c-b2e1-2d860dcd7467",
   "metadata": {},
   "outputs": [],
   "source": [
    "n_comp = 2\n",
    "pca = PCA(n_components=n_comp)\n",
    "features = customers.columns\n",
    "data_pca = pca.fit_transform(customers_normalized)\n",
    "pcs = pca.components_"
   ]
  },
  {
   "cell_type": "code",
   "execution_count": 85,
   "id": "a7bed1a6-94f2-4946-acd1-d5d10edc39f6",
   "metadata": {},
   "outputs": [
    {
     "data": {
      "image/png": "[encoded data removed]",
      "text/plain": [
       "<Figure size 504x432 with 1 Axes>"
      ]
     },
     "metadata": {},
     "output_type": "display_data"
    }
   ],
   "source": [
    "display_circles(pcs, n_comp, pca, [(0, 1)], labels=np.array(features))"
   ]
  },
  {
   "cell_type": "markdown",
   "id": "fd182afe-f65b-4b1f-bf1a-047cd043d170",
   "metadata": {},
   "source": [
    "### 2. Modélisation : k-means"
   ]
  },
  {
   "cell_type": "markdown",
   "id": "1e9041ca-bd22-4b65-9f84-1564100e5965",
   "metadata": {},
   "source": [
    "Une fois les étapes de pré-traitement réalisés, on va pouvoir passer à la modélisation. On va utiliser un algorithme K-Means qui se base sur des calculs de distance entre les points de notre jeu de données et un point nommé centroïde. Il est possible d'entrer les coordonnées de ce centroïde. Dans notre situation, on ne possède pas de contrainte sur le placement de ces centroïdes, on va donc laisser ce paramètre s'initialiser aléatoirement. En revanche, on va chercher à déterminer le nombre de clusters (le K du K-Means). Pour cela, on s'intéresse à l'évolution des distorsions avec la \"méthode du coude\" (Elbow Method)."
   ]
  },
  {
   "cell_type": "code",
   "execution_count": 86,
   "id": "4889ab70-808a-4f73-935c-09151deb346b",
   "metadata": {},
   "outputs": [
    {
     "data": {
      "image/png": "[encoded data removed]",
      "text/plain": [
       "<Figure size 576x396 with 1 Axes>"
      ]
     },
     "metadata": {},
     "output_type": "display_data"
    },
    {
     "data": {
      "text/plain": [
       "<AxesSubplot:title={'center':'Distortion Score Elbow for KMeans Clustering'}, xlabel='k', ylabel='distortion score'>"
      ]
     },
     "execution_count": 86,
     "metadata": {},
     "output_type": "execute_result"
    }
   ],
   "source": [
    "model = KMeans()\n",
    "visualizer = KElbowVisualizer(model, k=(2, 10), timings=False)\n",
    "visualizer.fit(data_pca)\n",
    "visualizer.show()"
   ]
  },
  {
   "cell_type": "markdown",
   "id": "ff3b607a-8a3a-479d-91ac-ba6da3082da0",
   "metadata": {},
   "source": [
    "Selon la méthode du coude, le nombre de cluster idéal est de 4. On va donc entraîner notre modèle avec ce paramètre."
   ]
  },
  {
   "cell_type": "code",
   "execution_count": 87,
   "id": "9ea64c22-f534-4d02-aa46-0567b9ed1b8e",
   "metadata": {},
   "outputs": [],
   "source": [
    "sns.set_palette(\"Pastel2\")\n",
    "sns.set_style(\"ticks\")"
   ]
  },
  {
   "cell_type": "code",
   "execution_count": 88,
   "id": "4459f24e-d26e-4960-88f5-ba428e42bece",
   "metadata": {},
   "outputs": [
    {
     "data": {
      "image/png": "[encoded data removed]",
      "text/plain": [
       "<Figure size 720x720 with 1 Axes>"
      ]
     },
     "metadata": {},
     "output_type": "display_data"
    }
   ],
   "source": [
    "# Fitting KMeans\n",
    "km = KMeans(n_clusters=4, random_state=42)\n",
    "\n",
    "# Prediction\n",
    "label = km.fit_predict(data_pca)\n",
    "centroids = km.cluster_centers_\n",
    "u_labels = np.unique(label)\n",
    "\n",
    "# Graphical representation\n",
    "plt.figure(figsize=(10, 10))\n",
    "for i in u_labels:\n",
    "    plt.scatter(data_pca[label==i, 0], data_pca[label==i, 1], label = i)\n",
    "plt.scatter(centroids[:, 0], centroids[:,1], s=80, alpha=0.8, color='k')\n",
    "plt.legend()\n",
    "plt.title('Représentation des clusters du K-Means')\n",
    "plt.show()"
   ]
  },
  {
   "cell_type": "markdown",
   "id": "07ba785b-8903-45c7-afa4-802f5763a4d4",
   "metadata": {},
   "source": [
    "#### a. Description des clusters obtenus avec le modèle"
   ]
  },
  {
   "cell_type": "code",
   "execution_count": 89,
   "id": "6ed7dce9-6792-4b73-a9f5-699b0b8f3804",
   "metadata": {},
   "outputs": [
    {
     "data": {
      "text/html": [
       "<div>\n",
       "<style scoped>\n",
       "    .dataframe tbody tr th:only-of-type {\n",
       "        vertical-align: middle;\n",
       "    }\n",
       "\n",
       "    .dataframe tbody tr th {\n",
       "        vertical-align: top;\n",
       "    }\n",
       "\n",
       "    .dataframe thead th {\n",
       "        text-align: right;\n",
       "    }\n",
       "</style>\n",
       "<table border=\"1\" class=\"dataframe\">\n",
       "  <thead>\n",
       "    <tr style=\"text-align: right;\">\n",
       "      <th></th>\n",
       "      <th>Recency</th>\n",
       "      <th>Frequency</th>\n",
       "      <th>MonetaryValue</th>\n",
       "    </tr>\n",
       "    <tr>\n",
       "      <th>Cluster</th>\n",
       "      <th></th>\n",
       "      <th></th>\n",
       "      <th></th>\n",
       "    </tr>\n",
       "  </thead>\n",
       "  <tbody>\n",
       "    <tr>\n",
       "      <th>0</th>\n",
       "      <td>341.00</td>\n",
       "      <td>1.00</td>\n",
       "      <td>292.59</td>\n",
       "    </tr>\n",
       "    <tr>\n",
       "      <th>1</th>\n",
       "      <td>119.74</td>\n",
       "      <td>1.01</td>\n",
       "      <td>141.27</td>\n",
       "    </tr>\n",
       "    <tr>\n",
       "      <th>2</th>\n",
       "      <td>312.66</td>\n",
       "      <td>2.59</td>\n",
       "      <td>42.35</td>\n",
       "    </tr>\n",
       "    <tr>\n",
       "      <th>3</th>\n",
       "      <td>377.07</td>\n",
       "      <td>1.02</td>\n",
       "      <td>71.77</td>\n",
       "    </tr>\n",
       "  </tbody>\n",
       "</table>\n",
       "</div>"
      ],
      "text/plain": [
       "         Recency  Frequency  MonetaryValue\n",
       "Cluster                                   \n",
       "0         341.00       1.00         292.59\n",
       "1         119.74       1.01         141.27\n",
       "2         312.66       2.59          42.35\n",
       "3         377.07       1.02          71.77"
      ]
     },
     "execution_count": 89,
     "metadata": {},
     "output_type": "execute_result"
    }
   ],
   "source": [
    "df[\"Cluster\"] = km.labels_\n",
    "df.groupby('Cluster').agg({\n",
    "    'Recency' : \"mean\", \n",
    "    'Frequency' : \"mean\",\n",
    "    'MonetaryValue': \"mean\"}).round(2)"
   ]
  },
  {
   "cell_type": "code",
   "execution_count": 90,
   "id": "065faaba-7638-4b96-b137-ca2b2f262082",
   "metadata": {},
   "outputs": [
    {
     "data": {
      "text/html": [
       "<div>\n",
       "<style scoped>\n",
       "    .dataframe tbody tr th:only-of-type {\n",
       "        vertical-align: middle;\n",
       "    }\n",
       "\n",
       "    .dataframe tbody tr th {\n",
       "        vertical-align: top;\n",
       "    }\n",
       "\n",
       "    .dataframe thead th {\n",
       "        text-align: right;\n",
       "    }\n",
       "</style>\n",
       "<table border=\"1\" class=\"dataframe\">\n",
       "  <thead>\n",
       "    <tr style=\"text-align: right;\">\n",
       "      <th></th>\n",
       "      <th>ID</th>\n",
       "      <th>Cluster</th>\n",
       "      <th>Attribute</th>\n",
       "      <th>Value</th>\n",
       "    </tr>\n",
       "  </thead>\n",
       "  <tbody>\n",
       "    <tr>\n",
       "      <th>0</th>\n",
       "      <td>000e309254ab1fc5ba99dd469d36bdb4</td>\n",
       "      <td>2</td>\n",
       "      <td>Recency</td>\n",
       "      <td>-1.221878</td>\n",
       "    </tr>\n",
       "    <tr>\n",
       "      <th>1</th>\n",
       "      <td>0028a7d8db7b0247652509358ad8d755</td>\n",
       "      <td>3</td>\n",
       "      <td>Recency</td>\n",
       "      <td>0.375611</td>\n",
       "    </tr>\n",
       "    <tr>\n",
       "      <th>2</th>\n",
       "      <td>00324c9f4d710e7bac5c5ba679714430</td>\n",
       "      <td>2</td>\n",
       "      <td>Recency</td>\n",
       "      <td>1.099634</td>\n",
       "    </tr>\n",
       "    <tr>\n",
       "      <th>3</th>\n",
       "      <td>0058f300f57d7b93c477a131a59b36c3</td>\n",
       "      <td>2</td>\n",
       "      <td>Recency</td>\n",
       "      <td>-0.257326</td>\n",
       "    </tr>\n",
       "    <tr>\n",
       "      <th>4</th>\n",
       "      <td>00986cafefb6e670cceca01694bda599</td>\n",
       "      <td>2</td>\n",
       "      <td>Recency</td>\n",
       "      <td>0.272822</td>\n",
       "    </tr>\n",
       "  </tbody>\n",
       "</table>\n",
       "</div>"
      ],
      "text/plain": [
       "                                 ID  Cluster Attribute     Value\n",
       "0  000e309254ab1fc5ba99dd469d36bdb4        2   Recency -1.221878\n",
       "1  0028a7d8db7b0247652509358ad8d755        3   Recency  0.375611\n",
       "2  00324c9f4d710e7bac5c5ba679714430        2   Recency  1.099634\n",
       "3  0058f300f57d7b93c477a131a59b36c3        2   Recency -0.257326\n",
       "4  00986cafefb6e670cceca01694bda599        2   Recency  0.272822"
      ]
     },
     "execution_count": 90,
     "metadata": {},
     "output_type": "execute_result"
    }
   ],
   "source": [
    "df_normalized = pd.DataFrame(customers_normalized,\n",
    "                             columns=['Recency', 'Frequency', 'MonetaryValue'])\n",
    "df_normalized['ID'] = df.index\n",
    "df_normalized[\"Cluster\"] = km.labels_\n",
    "\n",
    "df_nor_melt = pd.melt(df_normalized.reset_index(),\n",
    "                      id_vars=[\"ID\", \"Cluster\"],\n",
    "                      value_vars=[\"Recency\", \"Frequency\", \"MonetaryValue\"],\n",
    "                      var_name=\"Attribute\",\n",
    "                      value_name=\"Value\")\n",
    "\n",
    "df_nor_melt.head()"
   ]
  },
  {
   "cell_type": "code",
   "execution_count": 91,
   "id": "32e17293-cba5-4225-b95a-f9225f908560",
   "metadata": {},
   "outputs": [
    {
     "data": {
      "image/png": "[encoded data removed]",
      "text/plain": [
       "<Figure size 576x396 with 1 Axes>"
      ]
     },
     "metadata": {},
     "output_type": "display_data"
    }
   ],
   "source": [
    "sns.lineplot(\"Attribute\", \"Value\", hue=\"Cluster\", data=df_nor_melt)\n",
    "plt.show()"
   ]
  },
  {
   "cell_type": "markdown",
   "id": "dbed107c-3771-4b84-88b3-c35e2dc0ec6c",
   "metadata": {},
   "source": [
    "#### b. Evaluation du modèle"
   ]
  },
  {
   "cell_type": "code",
   "execution_count": 92,
   "id": "d03e87fb-7ad1-4f64-85db-a5c519772e58",
   "metadata": {},
   "outputs": [
    {
     "data": {
      "image/png": "[encoded data removed]",
      "text/plain": [
       "<Figure size 576x396 with 1 Axes>"
      ]
     },
     "metadata": {},
     "output_type": "display_data"
    },
    {
     "data": {
      "text/plain": [
       "<AxesSubplot:title={'center':'Silhouette Plot of KMeans Clustering for 38860 Samples in 4 Centers'}, xlabel='silhouette coefficient values', ylabel='cluster label'>"
      ]
     },
     "execution_count": 92,
     "metadata": {},
     "output_type": "execute_result"
    }
   ],
   "source": [
    "visualizer = SilhouetteVisualizer(km, colors='yellowbrick')\n",
    "\n",
    "visualizer.fit(data_pca)\n",
    "visualizer.show()"
   ]
  },
  {
   "cell_type": "code",
   "execution_count": 93,
   "id": "51b56f58-cda3-4f43-bdd4-3c9c7af9a210",
   "metadata": {},
   "outputs": [
    {
     "name": "stdout",
     "output_type": "stream",
     "text": [
      "Silhouette Score: 0.34655055534946916\n",
      "Score de Davies-Bouldin: 0.9227055618915843\n"
     ]
    }
   ],
   "source": [
    "print(\"Silhouette Score:\", silhouette_score(data_pca, label))\n",
    "print(\"Score de Davies-Bouldin:\", davies_bouldin_score(data_pca, label))"
   ]
  },
  {
   "cell_type": "code",
   "execution_count": 94,
   "id": "b54599ca-0a08-4ab3-8d0a-ed87f50958c7",
   "metadata": {},
   "outputs": [
    {
     "data": {
      "image/png": "[encoded data removed]",
      "text/plain": [
       "<Figure size 576x396 with 2 Axes>"
      ]
     },
     "metadata": {},
     "output_type": "display_data"
    },
    {
     "data": {
      "text/plain": [
       "InterclusterDistance(ax=<AxesSubplot:title={'center':'KMeans Intercluster Distance Map (via MDS)'}, xlabel='PC2', ylabel='PC1'>,\n",
       "                     estimator=KMeans(n_clusters=4, random_state=42))"
      ]
     },
     "execution_count": 94,
     "metadata": {},
     "output_type": "execute_result"
    }
   ],
   "source": [
    "intercluster_distance(KMeans(4, random_state=42), data_pca)"
   ]
  },
  {
   "cell_type": "markdown",
   "id": "90e488ff-2fb9-48e8-80ee-2c74a46f8da9",
   "metadata": {},
   "source": [
    "##### Conclusion"
   ]
  },
  {
   "cell_type": "markdown",
   "id": "934c6cf3-0f3d-4b49-8a53-9dedff153d39",
   "metadata": {},
   "source": [
    "Trois de nos clusters semblent équilibrés et le dernier est plutôt faible. Ce cluster le plus petit est celui qui contient les clients ayant une fréquence d'achat supérieur à 2. Il s'agit donc des clients qui ont crée un compte et qui sont susceptibles de revenir régulièrement. Le reste des indices montre un clustering de bonne qualité. Cependant, la lecture des données ne permet de distinguer de véritables segmentations actionnables (outre les clients fidèles). On peut evisager d'affiner cette segmentation en y ajoutant des variables supplémentaires."
   ]
  },
  {
   "cell_type": "markdown",
   "id": "16561a1f-c03f-471b-aedf-7edd5cb1af42",
   "metadata": {},
   "source": [
    "#### c. Stabilité de l'algorithme"
   ]
  },
  {
   "cell_type": "markdown",
   "id": "bd0716bc-abb4-4d55-9b4e-4e0c0da74c2c",
   "metadata": {},
   "source": [
    "On s'intéresse à la stabilité de notre algorithme pour déterminer les dates de maintenance de ce dernier."
   ]
  },
  {
   "cell_type": "code",
   "execution_count": 95,
   "id": "f3c1d489-3132-4596-98c8-5262980c410b",
   "metadata": {},
   "outputs": [
    {
     "data": {
      "text/plain": [
       "Index(['customer_city', 'Recency', 'Frequency', 'MonetaryValue', 'r_quartile',\n",
       "       'f_bins', 'm_quartile', 'RFM_Score', 'product_category_name',\n",
       "       'nb_days_before_delivered', 'nb_days_before_delivered_estimation',\n",
       "       'review_score'],\n",
       "      dtype='object')"
      ]
     },
     "execution_count": 95,
     "metadata": {},
     "output_type": "execute_result"
    }
   ],
   "source": [
    "data_ok.columns"
   ]
  },
  {
   "cell_type": "code",
   "execution_count": 96,
   "id": "2efe36a9-13a6-4710-98e7-c2c4e66adbb7",
   "metadata": {},
   "outputs": [],
   "source": [
    "data_stability = pd.DataFrame()\n",
    "data_stability[\"Recency\"] = np.log1p(data_ok[\"Recency\"])\n",
    "data_stability[\"Frequency\"] = np.log1p(data_ok[\"Frequency\"])\n",
    "data_stability[\"MonetaryValue\"] = np.log1p(data_ok[\"MonetaryValue\"])\n",
    "data_stability[\"nb_days_before_delivered\"] = np.log1p(data_ok[\"nb_days_before_delivered\"])\n",
    "#data_stability[\"distance_customer_seller\"] = np.log1p(data_ok[\"distance_customer_seller\"])"
   ]
  },
  {
   "cell_type": "code",
   "execution_count": 97,
   "id": "4ce9fce8-b9fd-4ff0-a68a-bf2848412b04",
   "metadata": {},
   "outputs": [],
   "source": [
    "data_test_180d = data_stability.loc[data_ok[\"Recency\"] < 180]"
   ]
  },
  {
   "cell_type": "code",
   "execution_count": 98,
   "id": "429d5f77-7647-480e-8534-f6b312d230a6",
   "metadata": {},
   "outputs": [
    {
     "data": {
      "text/plain": [
       "Index(['Recency', 'Frequency', 'MonetaryValue', 'nb_days_before_delivered'], dtype='object')"
      ]
     },
     "execution_count": 98,
     "metadata": {},
     "output_type": "execute_result"
    }
   ],
   "source": [
    "data_stability.columns"
   ]
  },
  {
   "cell_type": "code",
   "execution_count": 99,
   "id": "4f690537-ae1f-4698-a211-11e97f2bbe6d",
   "metadata": {},
   "outputs": [],
   "source": [
    "customers_stability = customers\n",
    "customers_stability[\"Recency\"] = customers_stability[\"Recency\"].values \\\n",
    "                               - np.log1p(180)"
   ]
  },
  {
   "cell_type": "code",
   "execution_count": 100,
   "id": "dd0f15f9-2897-446b-97fc-9c3529131ab1",
   "metadata": {},
   "outputs": [
    {
     "data": {
      "text/html": [
       "<div>\n",
       "<style scoped>\n",
       "    .dataframe tbody tr th:only-of-type {\n",
       "        vertical-align: middle;\n",
       "    }\n",
       "\n",
       "    .dataframe tbody tr th {\n",
       "        vertical-align: top;\n",
       "    }\n",
       "\n",
       "    .dataframe thead th {\n",
       "        text-align: right;\n",
       "    }\n",
       "</style>\n",
       "<table border=\"1\" class=\"dataframe\">\n",
       "  <thead>\n",
       "    <tr style=\"text-align: right;\">\n",
       "      <th></th>\n",
       "      <th>Recency</th>\n",
       "      <th>Frequency</th>\n",
       "      <th>MonetaryValue</th>\n",
       "    </tr>\n",
       "    <tr>\n",
       "      <th>customer_unique_id</th>\n",
       "      <th></th>\n",
       "      <th></th>\n",
       "      <th></th>\n",
       "    </tr>\n",
       "  </thead>\n",
       "  <tbody>\n",
       "    <tr>\n",
       "      <th>000e309254ab1fc5ba99dd469d36bdb4</th>\n",
       "      <td>-0.444907</td>\n",
       "      <td>1.098612</td>\n",
       "      <td>3.694116</td>\n",
       "    </tr>\n",
       "    <tr>\n",
       "      <th>0028a7d8db7b0247652509358ad8d755</th>\n",
       "      <td>0.538075</td>\n",
       "      <td>1.098612</td>\n",
       "      <td>5.184224</td>\n",
       "    </tr>\n",
       "    <tr>\n",
       "      <th>00324c9f4d710e7bac5c5ba679714430</th>\n",
       "      <td>0.983588</td>\n",
       "      <td>1.098612</td>\n",
       "      <td>4.023385</td>\n",
       "    </tr>\n",
       "    <tr>\n",
       "      <th>0058f300f57d7b93c477a131a59b36c3</th>\n",
       "      <td>0.148610</td>\n",
       "      <td>1.098612</td>\n",
       "      <td>3.892024</td>\n",
       "    </tr>\n",
       "    <tr>\n",
       "      <th>00986cafefb6e670cceca01694bda599</th>\n",
       "      <td>0.474826</td>\n",
       "      <td>1.098612</td>\n",
       "      <td>3.539654</td>\n",
       "    </tr>\n",
       "  </tbody>\n",
       "</table>\n",
       "</div>"
      ],
      "text/plain": [
       "                                   Recency  Frequency  MonetaryValue\n",
       "customer_unique_id                                                  \n",
       "000e309254ab1fc5ba99dd469d36bdb4 -0.444907   1.098612       3.694116\n",
       "0028a7d8db7b0247652509358ad8d755  0.538075   1.098612       5.184224\n",
       "00324c9f4d710e7bac5c5ba679714430  0.983588   1.098612       4.023385\n",
       "0058f300f57d7b93c477a131a59b36c3  0.148610   1.098612       3.892024\n",
       "00986cafefb6e670cceca01694bda599  0.474826   1.098612       3.539654"
      ]
     },
     "execution_count": 100,
     "metadata": {},
     "output_type": "execute_result"
    }
   ],
   "source": [
    "customers_stability.head()"
   ]
  },
  {
   "cell_type": "code",
   "execution_count": 101,
   "id": "3aca0fee-995a-4597-b0dc-a9e21fa38f40",
   "metadata": {},
   "outputs": [],
   "source": [
    "customers_test_stab = scaler.transform(customers_stability)\n",
    "customers_test_stab = pca.transform(customers_test_stab)\n",
    "label1 = model.predict(customers_test_stab)"
   ]
  },
  {
   "cell_type": "code",
   "execution_count": 102,
   "id": "8b875bd2-47ca-4305-a58f-9b34b50cd12d",
   "metadata": {},
   "outputs": [
    {
     "data": {
      "text/html": [
       "<div>\n",
       "<style scoped>\n",
       "    .dataframe tbody tr th:only-of-type {\n",
       "        vertical-align: middle;\n",
       "    }\n",
       "\n",
       "    .dataframe tbody tr th {\n",
       "        vertical-align: top;\n",
       "    }\n",
       "\n",
       "    .dataframe thead th {\n",
       "        text-align: right;\n",
       "    }\n",
       "</style>\n",
       "<table border=\"1\" class=\"dataframe\">\n",
       "  <thead>\n",
       "    <tr style=\"text-align: right;\">\n",
       "      <th></th>\n",
       "      <th>label_begin</th>\n",
       "    </tr>\n",
       "    <tr>\n",
       "      <th>customer_unique_id</th>\n",
       "      <th></th>\n",
       "    </tr>\n",
       "  </thead>\n",
       "  <tbody>\n",
       "    <tr>\n",
       "      <th>000e309254ab1fc5ba99dd469d36bdb4</th>\n",
       "      <td>2</td>\n",
       "    </tr>\n",
       "    <tr>\n",
       "      <th>0028a7d8db7b0247652509358ad8d755</th>\n",
       "      <td>2</td>\n",
       "    </tr>\n",
       "    <tr>\n",
       "      <th>00324c9f4d710e7bac5c5ba679714430</th>\n",
       "      <td>2</td>\n",
       "    </tr>\n",
       "  </tbody>\n",
       "</table>\n",
       "</div>"
      ],
      "text/plain": [
       "                                  label_begin\n",
       "customer_unique_id                           \n",
       "000e309254ab1fc5ba99dd469d36bdb4            2\n",
       "0028a7d8db7b0247652509358ad8d755            2\n",
       "00324c9f4d710e7bac5c5ba679714430            2"
      ]
     },
     "execution_count": 102,
     "metadata": {},
     "output_type": "execute_result"
    }
   ],
   "source": [
    "stability = pd.DataFrame({\"label_begin\" : label1},\n",
    "                         index=customers_stability.index)\n",
    "stability.head(3)"
   ]
  },
  {
   "cell_type": "code",
   "execution_count": 103,
   "id": "39c744b6-c682-40d1-9251-e4167995a97f",
   "metadata": {},
   "outputs": [],
   "source": [
    "customers_stability[\"Recency\"] = customers_stability[\"Recency\"].values \\\n",
    "                                 + np.log1p(30)"
   ]
  },
  {
   "cell_type": "code",
   "execution_count": 104,
   "id": "20d1238d-828e-410b-b8e6-88b2510f0eac",
   "metadata": {},
   "outputs": [],
   "source": [
    "customers_stability[\"Recency\"] = customers_stability[\"Recency\"].values \\\n",
    "                                + np.log1p(30)\n",
    "customers_test_stab = scaler.transform(customers_stability)\n",
    "customers_test_stab = pca.transform(customers_test_stab)\n",
    "label2 = model.predict(customers_test_stab)\n",
    "stability[\"label_30d\"] = label2"
   ]
  },
  {
   "cell_type": "code",
   "execution_count": 105,
   "id": "85595612-fe7a-4503-9d66-02257f8138f6",
   "metadata": {},
   "outputs": [],
   "source": [
    "customers_stability[\"Recency\"] = customers_stability[\"Recency\"].values \\\n",
    "                                + np.log1p(30)\n",
    "customers_test_stab = scaler.transform(customers_stability)\n",
    "customers_test_stab = pca.transform(customers_test_stab)\n",
    "label3 = model.predict(customers_test_stab)\n",
    "stability[\"label_60d\"] = label3"
   ]
  },
  {
   "cell_type": "code",
   "execution_count": 106,
   "id": "eb5636bd-0d69-4197-aea3-a591e0a34fc1",
   "metadata": {},
   "outputs": [],
   "source": [
    "customers_stability[\"Recency\"] = customers_stability[\"Recency\"].values \\\n",
    "                                + np.log1p(30)\n",
    "customers_test_stab = scaler.transform(customers_stability)\n",
    "customers_test_stab = pca.transform(customers_test_stab)\n",
    "label4 = model.predict(customers_test_stab)\n",
    "stability[\"label_90d\"] = label4"
   ]
  },
  {
   "cell_type": "code",
   "execution_count": 107,
   "id": "e7a75b09-7047-424f-816e-73b129b386b4",
   "metadata": {},
   "outputs": [],
   "source": [
    "customers_stability[\"Recency\"] = customers_stability[\"Recency\"].values \\\n",
    "                                + np.log1p(30)\n",
    "customers_test_stab = scaler.transform(customers_stability)\n",
    "customers_test_stab = pca.transform(customers_test_stab)\n",
    "label5 = model.predict(customers_test_stab)\n",
    "stability[\"label_120d\"] = label5"
   ]
  },
  {
   "cell_type": "code",
   "execution_count": 108,
   "id": "775efa19-6c99-4542-8ccf-4942a2977db1",
   "metadata": {},
   "outputs": [],
   "source": [
    "customers_stability[\"Recency\"] = customers_stability[\"Recency\"].values \\\n",
    "                                + np.log1p(30)\n",
    "customers_test_stab = scaler.transform(customers_stability)\n",
    "customers_test_stab = pca.transform(customers_test_stab)\n",
    "label6 = model.predict(customers_test_stab)\n",
    "stability[\"label_150d\"] = label6"
   ]
  },
  {
   "cell_type": "code",
   "execution_count": 109,
   "id": "cb95165b-a266-4f50-b883-23827ae79446",
   "metadata": {},
   "outputs": [],
   "source": [
    "customers_stability[\"Recency\"] = customers_stability[\"Recency\"].values \\\n",
    "                                + np.log1p(30)\n",
    "customers_test_stab = scaler.transform(customers_stability)\n",
    "customers_test_stab = pca.transform(customers_test_stab)\n",
    "label7 = model.predict(customers_test_stab)\n",
    "stability[\"label_180d\"] = label7"
   ]
  },
  {
   "cell_type": "code",
   "execution_count": 110,
   "id": "33db4473-0d36-480f-b3a8-878ee8f51270",
   "metadata": {},
   "outputs": [
    {
     "data": {
      "text/html": [
       "<div>\n",
       "<style scoped>\n",
       "    .dataframe tbody tr th:only-of-type {\n",
       "        vertical-align: middle;\n",
       "    }\n",
       "\n",
       "    .dataframe tbody tr th {\n",
       "        vertical-align: top;\n",
       "    }\n",
       "\n",
       "    .dataframe thead th {\n",
       "        text-align: right;\n",
       "    }\n",
       "</style>\n",
       "<table border=\"1\" class=\"dataframe\">\n",
       "  <thead>\n",
       "    <tr style=\"text-align: right;\">\n",
       "      <th></th>\n",
       "      <th>label_begin</th>\n",
       "      <th>label_30d</th>\n",
       "      <th>label_60d</th>\n",
       "      <th>label_90d</th>\n",
       "      <th>label_120d</th>\n",
       "      <th>label_150d</th>\n",
       "      <th>label_180d</th>\n",
       "    </tr>\n",
       "    <tr>\n",
       "      <th>customer_unique_id</th>\n",
       "      <th></th>\n",
       "      <th></th>\n",
       "      <th></th>\n",
       "      <th></th>\n",
       "      <th></th>\n",
       "      <th></th>\n",
       "      <th></th>\n",
       "    </tr>\n",
       "  </thead>\n",
       "  <tbody>\n",
       "    <tr>\n",
       "      <th>000e309254ab1fc5ba99dd469d36bdb4</th>\n",
       "      <td>2</td>\n",
       "      <td>3</td>\n",
       "      <td>1</td>\n",
       "      <td>1</td>\n",
       "      <td>1</td>\n",
       "      <td>1</td>\n",
       "      <td>1</td>\n",
       "    </tr>\n",
       "    <tr>\n",
       "      <th>0028a7d8db7b0247652509358ad8d755</th>\n",
       "      <td>2</td>\n",
       "      <td>1</td>\n",
       "      <td>1</td>\n",
       "      <td>1</td>\n",
       "      <td>1</td>\n",
       "      <td>5</td>\n",
       "      <td>5</td>\n",
       "    </tr>\n",
       "    <tr>\n",
       "      <th>00324c9f4d710e7bac5c5ba679714430</th>\n",
       "      <td>2</td>\n",
       "      <td>1</td>\n",
       "      <td>1</td>\n",
       "      <td>1</td>\n",
       "      <td>1</td>\n",
       "      <td>1</td>\n",
       "      <td>1</td>\n",
       "    </tr>\n",
       "  </tbody>\n",
       "</table>\n",
       "</div>"
      ],
      "text/plain": [
       "                                  label_begin  label_30d  label_60d  \\\n",
       "customer_unique_id                                                    \n",
       "000e309254ab1fc5ba99dd469d36bdb4            2          3          1   \n",
       "0028a7d8db7b0247652509358ad8d755            2          1          1   \n",
       "00324c9f4d710e7bac5c5ba679714430            2          1          1   \n",
       "\n",
       "                                  label_90d  label_120d  label_150d  \\\n",
       "customer_unique_id                                                    \n",
       "000e309254ab1fc5ba99dd469d36bdb4          1           1           1   \n",
       "0028a7d8db7b0247652509358ad8d755          1           1           5   \n",
       "00324c9f4d710e7bac5c5ba679714430          1           1           1   \n",
       "\n",
       "                                  label_180d  \n",
       "customer_unique_id                            \n",
       "000e309254ab1fc5ba99dd469d36bdb4           1  \n",
       "0028a7d8db7b0247652509358ad8d755           5  \n",
       "00324c9f4d710e7bac5c5ba679714430           1  "
      ]
     },
     "execution_count": 110,
     "metadata": {},
     "output_type": "execute_result"
    }
   ],
   "source": [
    "stability.head(3)"
   ]
  },
  {
   "cell_type": "code",
   "execution_count": 111,
   "id": "3cbddd1c-82b4-4a99-aa29-70509f10fe46",
   "metadata": {},
   "outputs": [
    {
     "name": "stdout",
     "output_type": "stream",
     "text": [
      "ARI à 1 mois : 0.03221206890820843\n",
      "ARI à 2 mois : -0.03395155027684154\n",
      "ARI à 3 mois : -0.022949101339207596\n",
      "ARI à 4 mois : 0.002151677531153261\n",
      "ARI à 5 mois : 0.014052919918003445\n",
      "ARI à 6 mois : 0.018878792176014767\n"
     ]
    }
   ],
   "source": [
    "from sklearn.metrics import adjusted_rand_score\n",
    "\n",
    "print(\"ARI à 1 mois :\", \\\n",
    "      adjusted_rand_score(stability['label_begin'], \\\n",
    "                          stability[\"label_30d\"]))\n",
    "print(\"ARI à 2 mois :\", \\\n",
    "      adjusted_rand_score(stability[\"label_begin\"], \\\n",
    "                          stability[\"label_60d\"]))\n",
    "print(\"ARI à 3 mois :\", \\\n",
    "      adjusted_rand_score(stability[\"label_begin\"], \\\n",
    "                          stability[\"label_90d\"]))\n",
    "print(\"ARI à 4 mois :\", \\\n",
    "      adjusted_rand_score(stability[\"label_begin\"], \\\n",
    "                          stability[\"label_120d\"]))\n",
    "print(\"ARI à 5 mois :\", \\\n",
    "      adjusted_rand_score(stability[\"label_begin\"], \\\n",
    "                          stability[\"label_150d\"]))\n",
    "print(\"ARI à 6 mois :\", \\\n",
    "      adjusted_rand_score(stability[\"label_begin\"], \\\n",
    "                          stability[\"label_180d\"]))"
   ]
  },
  {
   "cell_type": "markdown",
   "id": "6f5ddbd7-7de6-4a17-be4c-2a8ac2248762",
   "metadata": {},
   "source": [
    "La stabilité de notre modèle se dégrade très vite. Une maintenance mensuelle sera nécessaire pour pouvoir obtenir une segmentation qui ait encore du sens."
   ]
  },
  {
   "cell_type": "markdown",
   "id": "e6a01c85-96c5-431c-856e-a9b3455b3036",
   "metadata": {},
   "source": [
    "### 3. Modélisation : k-prototype"
   ]
  },
  {
   "cell_type": "markdown",
   "id": "2b621991-ab56-4073-a04a-bdc89473be30",
   "metadata": {},
   "source": [
    "L'algorithme K-Prototype est un algorithme de la même famille que le K-Means. Cependant, le K-Prototype permet d'ajouter des variables catégorielles dans notre segmentation. On ajoute en plus des variables présentées dans le modèle précédents, la ville d'origine du client, l'avis moyen donné lors de ces commandes et le type de produits commandé.\n",
    "\n",
    "On choisit de diviser notre échantillon en 4 clusters."
   ]
  },
  {
   "cell_type": "code",
   "execution_count": 112,
   "id": "f0273f98-5ed3-4ff1-b49b-34f31f9e875a",
   "metadata": {},
   "outputs": [],
   "source": [
    "data_ok.drop([\"r_quartile\",\n",
    "           \"f_bins\",\n",
    "           \"m_quartile\",\n",
    "           \"RFM_Score\"],\n",
    "           axis=1, inplace=True)"
   ]
  },
  {
   "cell_type": "code",
   "execution_count": 113,
   "id": "be4c92f2-7b08-45a3-87a8-8a1d030124f1",
   "metadata": {},
   "outputs": [],
   "source": [
    "cols = data_ok.columns\n",
    "\n",
    "for col in cols:\n",
    "    if data_ok[col].dtypes == \"float\":\n",
    "        data_ok[col] = np.log1p(data_ok[col].values)"
   ]
  },
  {
   "cell_type": "code",
   "execution_count": 114,
   "id": "adcf9d03-43e7-47f8-af20-29cf70aa647a",
   "metadata": {},
   "outputs": [],
   "source": [
    "cat_var = [\"review_score\", \"customer_city\", \"product_category_name\"]\n",
    "num_var = [\"Frequency\", \"Recency\", \"nb_days_before_delivered\",\n",
    "           \"MonetaryValue\", \"distance_customer_seller\"]"
   ]
  },
  {
   "cell_type": "code",
   "execution_count": 115,
   "id": "350786a4-2bd2-456d-b3e4-c43aa2b981a7",
   "metadata": {},
   "outputs": [],
   "source": [
    "from sklearn.compose import ColumnTransformer\n",
    "from sklearn.pipeline import Pipeline\n",
    "from sklearn.impute import SimpleImputer\n",
    "\n",
    "cat_pipe = Pipeline([\n",
    "    ('imputer', SimpleImputer(strategy='most_frequent', fill_value='missing'))\n",
    "])\n",
    "\n",
    "num_pipe = Pipeline([\n",
    "    ('imputer', SimpleImputer(strategy=\"median\", fill_value=\"missing\")),\n",
    "    ('scaler', StandardScaler())\n",
    "])\n",
    "\n",
    "preprocessor = ColumnTransformer(\n",
    "    transformers=[\n",
    "    ('cat', cat_pipe, cat_var),\n",
    "    ('num', num_pipe, num_var)\n",
    "])"
   ]
  },
  {
   "cell_type": "code",
   "execution_count": 116,
   "id": "9a674f14-1ba3-4d1b-bfef-a095df4e7c43",
   "metadata": {},
   "outputs": [
    {
     "data": {
      "text/plain": [
       "Index(['customer_city', 'Recency', 'Frequency', 'MonetaryValue',\n",
       "       'product_category_name', 'nb_days_before_delivered',\n",
       "       'nb_days_before_delivered_estimation', 'review_score'],\n",
       "      dtype='object')"
      ]
     },
     "execution_count": 116,
     "metadata": {},
     "output_type": "execute_result"
    }
   ],
   "source": [
    "data_ok.columns"
   ]
  },
  {
   "cell_type": "code",
   "execution_count": 120,
   "id": "a81ade9d-1029-47c6-990e-1962f1e909c5",
   "metadata": {},
   "outputs": [
    {
     "ename": "ValueError",
     "evalue": "A given column is not a column of the dataframe",
     "output_type": "error",
     "traceback": [
      "\u001b[0;31m---------------------------------------------------------------------------\u001b[0m",
      "\u001b[0;31mKeyError\u001b[0m                                  Traceback (most recent call last)",
      "\u001b[0;32m/opt/anaconda3/lib/python3.9/site-packages/pandas/core/indexes/base.py\u001b[0m in \u001b[0;36mget_loc\u001b[0;34m(self, key, method, tolerance)\u001b[0m\n\u001b[1;32m   3360\u001b[0m             \u001b[0;32mtry\u001b[0m\u001b[0;34m:\u001b[0m\u001b[0;34m\u001b[0m\u001b[0;34m\u001b[0m\u001b[0m\n\u001b[0;32m-> 3361\u001b[0;31m                 \u001b[0;32mreturn\u001b[0m \u001b[0mself\u001b[0m\u001b[0;34m.\u001b[0m\u001b[0m_engine\u001b[0m\u001b[0;34m.\u001b[0m\u001b[0mget_loc\u001b[0m\u001b[0;34m(\u001b[0m\u001b[0mcasted_key\u001b[0m\u001b[0;34m)\u001b[0m\u001b[0;34m\u001b[0m\u001b[0;34m\u001b[0m\u001b[0m\n\u001b[0m\u001b[1;32m   3362\u001b[0m             \u001b[0;32mexcept\u001b[0m \u001b[0mKeyError\u001b[0m \u001b[0;32mas\u001b[0m \u001b[0merr\u001b[0m\u001b[0;34m:\u001b[0m\u001b[0;34m\u001b[0m\u001b[0;34m\u001b[0m\u001b[0m\n",
      "\u001b[0;32m/opt/anaconda3/lib/python3.9/site-packages/pandas/_libs/index.pyx\u001b[0m in \u001b[0;36mpandas._libs.index.IndexEngine.get_loc\u001b[0;34m()\u001b[0m\n",
      "\u001b[0;32m/opt/anaconda3/lib/python3.9/site-packages/pandas/_libs/index.pyx\u001b[0m in \u001b[0;36mpandas._libs.index.IndexEngine.get_loc\u001b[0;34m()\u001b[0m\n",
      "\u001b[0;32mpandas/_libs/hashtable_class_helper.pxi\u001b[0m in \u001b[0;36mpandas._libs.hashtable.PyObjectHashTable.get_item\u001b[0;34m()\u001b[0m\n",
      "\u001b[0;32mpandas/_libs/hashtable_class_helper.pxi\u001b[0m in \u001b[0;36mpandas._libs.hashtable.PyObjectHashTable.get_item\u001b[0;34m()\u001b[0m\n",
      "\u001b[0;31mKeyError\u001b[0m: 'distance_customer_seller'",
      "\nThe above exception was the direct cause of the following exception:\n",
      "\u001b[0;31mKeyError\u001b[0m                                  Traceback (most recent call last)",
      "\u001b[0;32m/opt/anaconda3/lib/python3.9/site-packages/sklearn/utils/__init__.py\u001b[0m in \u001b[0;36m_get_column_indices\u001b[0;34m(X, key)\u001b[0m\n\u001b[1;32m    432\u001b[0m             \u001b[0;32mfor\u001b[0m \u001b[0mcol\u001b[0m \u001b[0;32min\u001b[0m \u001b[0mcolumns\u001b[0m\u001b[0;34m:\u001b[0m\u001b[0;34m\u001b[0m\u001b[0;34m\u001b[0m\u001b[0m\n\u001b[0;32m--> 433\u001b[0;31m                 \u001b[0mcol_idx\u001b[0m \u001b[0;34m=\u001b[0m \u001b[0mall_columns\u001b[0m\u001b[0;34m.\u001b[0m\u001b[0mget_loc\u001b[0m\u001b[0;34m(\u001b[0m\u001b[0mcol\u001b[0m\u001b[0;34m)\u001b[0m\u001b[0;34m\u001b[0m\u001b[0;34m\u001b[0m\u001b[0m\n\u001b[0m\u001b[1;32m    434\u001b[0m                 \u001b[0;32mif\u001b[0m \u001b[0;32mnot\u001b[0m \u001b[0misinstance\u001b[0m\u001b[0;34m(\u001b[0m\u001b[0mcol_idx\u001b[0m\u001b[0;34m,\u001b[0m \u001b[0mnumbers\u001b[0m\u001b[0;34m.\u001b[0m\u001b[0mIntegral\u001b[0m\u001b[0;34m)\u001b[0m\u001b[0;34m:\u001b[0m\u001b[0;34m\u001b[0m\u001b[0;34m\u001b[0m\u001b[0m\n",
      "\u001b[0;32m/opt/anaconda3/lib/python3.9/site-packages/pandas/core/indexes/base.py\u001b[0m in \u001b[0;36mget_loc\u001b[0;34m(self, key, method, tolerance)\u001b[0m\n\u001b[1;32m   3362\u001b[0m             \u001b[0;32mexcept\u001b[0m \u001b[0mKeyError\u001b[0m \u001b[0;32mas\u001b[0m \u001b[0merr\u001b[0m\u001b[0;34m:\u001b[0m\u001b[0;34m\u001b[0m\u001b[0;34m\u001b[0m\u001b[0m\n\u001b[0;32m-> 3363\u001b[0;31m                 \u001b[0;32mraise\u001b[0m \u001b[0mKeyError\u001b[0m\u001b[0;34m(\u001b[0m\u001b[0mkey\u001b[0m\u001b[0;34m)\u001b[0m \u001b[0;32mfrom\u001b[0m \u001b[0merr\u001b[0m\u001b[0;34m\u001b[0m\u001b[0;34m\u001b[0m\u001b[0m\n\u001b[0m\u001b[1;32m   3364\u001b[0m \u001b[0;34m\u001b[0m\u001b[0m\n",
      "\u001b[0;31mKeyError\u001b[0m: 'distance_customer_seller'",
      "\nThe above exception was the direct cause of the following exception:\n",
      "\u001b[0;31mValueError\u001b[0m                                Traceback (most recent call last)",
      "\u001b[0;32m/var/folders/jf/k7h1mpmj6r1dhvx47fr5znsw0000gp/T/ipykernel_15400/670534701.py\u001b[0m in \u001b[0;36m<module>\u001b[0;34m\u001b[0m\n\u001b[0;32m----> 1\u001b[0;31m \u001b[0mdata_normalized\u001b[0m \u001b[0;34m=\u001b[0m \u001b[0mpreprocessor\u001b[0m\u001b[0;34m.\u001b[0m\u001b[0mfit_transform\u001b[0m\u001b[0;34m(\u001b[0m\u001b[0mdata_ok\u001b[0m\u001b[0;34m)\u001b[0m\u001b[0;34m\u001b[0m\u001b[0;34m\u001b[0m\u001b[0m\n\u001b[0m",
      "\u001b[0;32m/opt/anaconda3/lib/python3.9/site-packages/sklearn/compose/_column_transformer.py\u001b[0m in \u001b[0;36mfit_transform\u001b[0;34m(self, X, y)\u001b[0m\n\u001b[1;32m    670\u001b[0m         \u001b[0mself\u001b[0m\u001b[0;34m.\u001b[0m\u001b[0m_check_n_features\u001b[0m\u001b[0;34m(\u001b[0m\u001b[0mX\u001b[0m\u001b[0;34m,\u001b[0m \u001b[0mreset\u001b[0m\u001b[0;34m=\u001b[0m\u001b[0;32mTrue\u001b[0m\u001b[0;34m)\u001b[0m\u001b[0;34m\u001b[0m\u001b[0;34m\u001b[0m\u001b[0m\n\u001b[1;32m    671\u001b[0m         \u001b[0mself\u001b[0m\u001b[0;34m.\u001b[0m\u001b[0m_validate_transformers\u001b[0m\u001b[0;34m(\u001b[0m\u001b[0;34m)\u001b[0m\u001b[0;34m\u001b[0m\u001b[0;34m\u001b[0m\u001b[0m\n\u001b[0;32m--> 672\u001b[0;31m         \u001b[0mself\u001b[0m\u001b[0;34m.\u001b[0m\u001b[0m_validate_column_callables\u001b[0m\u001b[0;34m(\u001b[0m\u001b[0mX\u001b[0m\u001b[0;34m)\u001b[0m\u001b[0;34m\u001b[0m\u001b[0;34m\u001b[0m\u001b[0m\n\u001b[0m\u001b[1;32m    673\u001b[0m         \u001b[0mself\u001b[0m\u001b[0;34m.\u001b[0m\u001b[0m_validate_remainder\u001b[0m\u001b[0;34m(\u001b[0m\u001b[0mX\u001b[0m\u001b[0;34m)\u001b[0m\u001b[0;34m\u001b[0m\u001b[0;34m\u001b[0m\u001b[0m\n\u001b[1;32m    674\u001b[0m \u001b[0;34m\u001b[0m\u001b[0m\n",
      "\u001b[0;32m/opt/anaconda3/lib/python3.9/site-packages/sklearn/compose/_column_transformer.py\u001b[0m in \u001b[0;36m_validate_column_callables\u001b[0;34m(self, X)\u001b[0m\n\u001b[1;32m    350\u001b[0m                 \u001b[0mcolumns\u001b[0m \u001b[0;34m=\u001b[0m \u001b[0mcolumns\u001b[0m\u001b[0;34m(\u001b[0m\u001b[0mX\u001b[0m\u001b[0;34m)\u001b[0m\u001b[0;34m\u001b[0m\u001b[0;34m\u001b[0m\u001b[0m\n\u001b[1;32m    351\u001b[0m             \u001b[0mall_columns\u001b[0m\u001b[0;34m.\u001b[0m\u001b[0mappend\u001b[0m\u001b[0;34m(\u001b[0m\u001b[0mcolumns\u001b[0m\u001b[0;34m)\u001b[0m\u001b[0;34m\u001b[0m\u001b[0;34m\u001b[0m\u001b[0m\n\u001b[0;32m--> 352\u001b[0;31m             \u001b[0mtransformer_to_input_indices\u001b[0m\u001b[0;34m[\u001b[0m\u001b[0mname\u001b[0m\u001b[0;34m]\u001b[0m \u001b[0;34m=\u001b[0m \u001b[0m_get_column_indices\u001b[0m\u001b[0;34m(\u001b[0m\u001b[0mX\u001b[0m\u001b[0;34m,\u001b[0m \u001b[0mcolumns\u001b[0m\u001b[0;34m)\u001b[0m\u001b[0;34m\u001b[0m\u001b[0;34m\u001b[0m\u001b[0m\n\u001b[0m\u001b[1;32m    353\u001b[0m \u001b[0;34m\u001b[0m\u001b[0m\n\u001b[1;32m    354\u001b[0m         \u001b[0mself\u001b[0m\u001b[0;34m.\u001b[0m\u001b[0m_columns\u001b[0m \u001b[0;34m=\u001b[0m \u001b[0mall_columns\u001b[0m\u001b[0;34m\u001b[0m\u001b[0;34m\u001b[0m\u001b[0m\n",
      "\u001b[0;32m/opt/anaconda3/lib/python3.9/site-packages/sklearn/utils/__init__.py\u001b[0m in \u001b[0;36m_get_column_indices\u001b[0;34m(X, key)\u001b[0m\n\u001b[1;32m    439\u001b[0m \u001b[0;34m\u001b[0m\u001b[0m\n\u001b[1;32m    440\u001b[0m         \u001b[0;32mexcept\u001b[0m \u001b[0mKeyError\u001b[0m \u001b[0;32mas\u001b[0m \u001b[0me\u001b[0m\u001b[0;34m:\u001b[0m\u001b[0;34m\u001b[0m\u001b[0;34m\u001b[0m\u001b[0m\n\u001b[0;32m--> 441\u001b[0;31m             \u001b[0;32mraise\u001b[0m \u001b[0mValueError\u001b[0m\u001b[0;34m(\u001b[0m\u001b[0;34m\"A given column is not a column of the dataframe\"\u001b[0m\u001b[0;34m)\u001b[0m \u001b[0;32mfrom\u001b[0m \u001b[0me\u001b[0m\u001b[0;34m\u001b[0m\u001b[0;34m\u001b[0m\u001b[0m\n\u001b[0m\u001b[1;32m    442\u001b[0m \u001b[0;34m\u001b[0m\u001b[0m\n\u001b[1;32m    443\u001b[0m         \u001b[0;32mreturn\u001b[0m \u001b[0mcolumn_indices\u001b[0m\u001b[0;34m\u001b[0m\u001b[0;34m\u001b[0m\u001b[0m\n",
      "\u001b[0;31mValueError\u001b[0m: A given column is not a column of the dataframe"
     ]
    }
   ],
   "source": [
    "data_normalized = preprocessor.fit_transform(data_ok)"
   ]
  },
  {
   "cell_type": "code",
   "execution_count": null,
   "id": "0346702d-fbd5-4b88-8abf-2b9813f6e1c5",
   "metadata": {},
   "outputs": [],
   "source": []
  },
  {
   "cell_type": "code",
   "execution_count": null,
   "id": "aa516609-51f6-4e6a-b35e-f793cdd9ea08",
   "metadata": {},
   "outputs": [],
   "source": []
  },
  {
   "cell_type": "code",
   "execution_count": null,
   "id": "1246e984-653d-4052-97a0-1f87e123ca13",
   "metadata": {},
   "outputs": [],
   "source": []
  },
  {
   "cell_type": "code",
   "execution_count": 117,
   "id": "1d52e5ce-095e-44d1-ae5e-48ff96dec752",
   "metadata": {},
   "outputs": [
    {
     "ename": "ValueError",
     "evalue": "A given column is not a column of the dataframe",
     "output_type": "error",
     "traceback": [
      "\u001b[0;31m---------------------------------------------------------------------------\u001b[0m",
      "\u001b[0;31mKeyError\u001b[0m                                  Traceback (most recent call last)",
      "\u001b[0;32m/opt/anaconda3/lib/python3.9/site-packages/pandas/core/indexes/base.py\u001b[0m in \u001b[0;36mget_loc\u001b[0;34m(self, key, method, tolerance)\u001b[0m\n\u001b[1;32m   3360\u001b[0m             \u001b[0;32mtry\u001b[0m\u001b[0;34m:\u001b[0m\u001b[0;34m\u001b[0m\u001b[0;34m\u001b[0m\u001b[0m\n\u001b[0;32m-> 3361\u001b[0;31m                 \u001b[0;32mreturn\u001b[0m \u001b[0mself\u001b[0m\u001b[0;34m.\u001b[0m\u001b[0m_engine\u001b[0m\u001b[0;34m.\u001b[0m\u001b[0mget_loc\u001b[0m\u001b[0;34m(\u001b[0m\u001b[0mcasted_key\u001b[0m\u001b[0;34m)\u001b[0m\u001b[0;34m\u001b[0m\u001b[0;34m\u001b[0m\u001b[0m\n\u001b[0m\u001b[1;32m   3362\u001b[0m             \u001b[0;32mexcept\u001b[0m \u001b[0mKeyError\u001b[0m \u001b[0;32mas\u001b[0m \u001b[0merr\u001b[0m\u001b[0;34m:\u001b[0m\u001b[0;34m\u001b[0m\u001b[0;34m\u001b[0m\u001b[0m\n",
      "\u001b[0;32m/opt/anaconda3/lib/python3.9/site-packages/pandas/_libs/index.pyx\u001b[0m in \u001b[0;36mpandas._libs.index.IndexEngine.get_loc\u001b[0;34m()\u001b[0m\n",
      "\u001b[0;32m/opt/anaconda3/lib/python3.9/site-packages/pandas/_libs/index.pyx\u001b[0m in \u001b[0;36mpandas._libs.index.IndexEngine.get_loc\u001b[0;34m()\u001b[0m\n",
      "\u001b[0;32mpandas/_libs/hashtable_class_helper.pxi\u001b[0m in \u001b[0;36mpandas._libs.hashtable.PyObjectHashTable.get_item\u001b[0;34m()\u001b[0m\n",
      "\u001b[0;32mpandas/_libs/hashtable_class_helper.pxi\u001b[0m in \u001b[0;36mpandas._libs.hashtable.PyObjectHashTable.get_item\u001b[0;34m()\u001b[0m\n",
      "\u001b[0;31mKeyError\u001b[0m: 'distance_customer_seller'",
      "\nThe above exception was the direct cause of the following exception:\n",
      "\u001b[0;31mKeyError\u001b[0m                                  Traceback (most recent call last)",
      "\u001b[0;32m/opt/anaconda3/lib/python3.9/site-packages/sklearn/utils/__init__.py\u001b[0m in \u001b[0;36m_get_column_indices\u001b[0;34m(X, key)\u001b[0m\n\u001b[1;32m    432\u001b[0m             \u001b[0;32mfor\u001b[0m \u001b[0mcol\u001b[0m \u001b[0;32min\u001b[0m \u001b[0mcolumns\u001b[0m\u001b[0;34m:\u001b[0m\u001b[0;34m\u001b[0m\u001b[0;34m\u001b[0m\u001b[0m\n\u001b[0;32m--> 433\u001b[0;31m                 \u001b[0mcol_idx\u001b[0m \u001b[0;34m=\u001b[0m \u001b[0mall_columns\u001b[0m\u001b[0;34m.\u001b[0m\u001b[0mget_loc\u001b[0m\u001b[0;34m(\u001b[0m\u001b[0mcol\u001b[0m\u001b[0;34m)\u001b[0m\u001b[0;34m\u001b[0m\u001b[0;34m\u001b[0m\u001b[0m\n\u001b[0m\u001b[1;32m    434\u001b[0m                 \u001b[0;32mif\u001b[0m \u001b[0;32mnot\u001b[0m \u001b[0misinstance\u001b[0m\u001b[0;34m(\u001b[0m\u001b[0mcol_idx\u001b[0m\u001b[0;34m,\u001b[0m \u001b[0mnumbers\u001b[0m\u001b[0;34m.\u001b[0m\u001b[0mIntegral\u001b[0m\u001b[0;34m)\u001b[0m\u001b[0;34m:\u001b[0m\u001b[0;34m\u001b[0m\u001b[0;34m\u001b[0m\u001b[0m\n",
      "\u001b[0;32m/opt/anaconda3/lib/python3.9/site-packages/pandas/core/indexes/base.py\u001b[0m in \u001b[0;36mget_loc\u001b[0;34m(self, key, method, tolerance)\u001b[0m\n\u001b[1;32m   3362\u001b[0m             \u001b[0;32mexcept\u001b[0m \u001b[0mKeyError\u001b[0m \u001b[0;32mas\u001b[0m \u001b[0merr\u001b[0m\u001b[0;34m:\u001b[0m\u001b[0;34m\u001b[0m\u001b[0;34m\u001b[0m\u001b[0m\n\u001b[0;32m-> 3363\u001b[0;31m                 \u001b[0;32mraise\u001b[0m \u001b[0mKeyError\u001b[0m\u001b[0;34m(\u001b[0m\u001b[0mkey\u001b[0m\u001b[0;34m)\u001b[0m \u001b[0;32mfrom\u001b[0m \u001b[0merr\u001b[0m\u001b[0;34m\u001b[0m\u001b[0;34m\u001b[0m\u001b[0m\n\u001b[0m\u001b[1;32m   3364\u001b[0m \u001b[0;34m\u001b[0m\u001b[0m\n",
      "\u001b[0;31mKeyError\u001b[0m: 'distance_customer_seller'",
      "\nThe above exception was the direct cause of the following exception:\n",
      "\u001b[0;31mValueError\u001b[0m                                Traceback (most recent call last)",
      "\u001b[0;32m/var/folders/jf/k7h1mpmj6r1dhvx47fr5znsw0000gp/T/ipykernel_15400/1266828528.py\u001b[0m in \u001b[0;36m<module>\u001b[0;34m\u001b[0m\n\u001b[0;32m----> 1\u001b[0;31m \u001b[0mdata_normalized\u001b[0m \u001b[0;34m=\u001b[0m \u001b[0mpreprocessor\u001b[0m\u001b[0;34m.\u001b[0m\u001b[0mfit_transform\u001b[0m\u001b[0;34m(\u001b[0m\u001b[0mdata_ok\u001b[0m\u001b[0;34m)\u001b[0m\u001b[0;34m\u001b[0m\u001b[0;34m\u001b[0m\u001b[0m\n\u001b[0m\u001b[1;32m      2\u001b[0m data_normalized = pd.DataFrame(data_normalized, columns=[\"review_score\",\n\u001b[1;32m      3\u001b[0m                                                          \u001b[0;34m\"customer_city\"\u001b[0m\u001b[0;34m,\u001b[0m\u001b[0;34m\u001b[0m\u001b[0;34m\u001b[0m\u001b[0m\n\u001b[1;32m      4\u001b[0m                                                          \u001b[0;34m\"product_category_name\"\u001b[0m\u001b[0;34m,\u001b[0m\u001b[0;34m\u001b[0m\u001b[0;34m\u001b[0m\u001b[0m\n\u001b[1;32m      5\u001b[0m                                                          \u001b[0;34m\"Frequency\"\u001b[0m\u001b[0;34m,\u001b[0m\u001b[0;34m\u001b[0m\u001b[0;34m\u001b[0m\u001b[0m\n",
      "\u001b[0;32m/opt/anaconda3/lib/python3.9/site-packages/sklearn/compose/_column_transformer.py\u001b[0m in \u001b[0;36mfit_transform\u001b[0;34m(self, X, y)\u001b[0m\n\u001b[1;32m    670\u001b[0m         \u001b[0mself\u001b[0m\u001b[0;34m.\u001b[0m\u001b[0m_check_n_features\u001b[0m\u001b[0;34m(\u001b[0m\u001b[0mX\u001b[0m\u001b[0;34m,\u001b[0m \u001b[0mreset\u001b[0m\u001b[0;34m=\u001b[0m\u001b[0;32mTrue\u001b[0m\u001b[0;34m)\u001b[0m\u001b[0;34m\u001b[0m\u001b[0;34m\u001b[0m\u001b[0m\n\u001b[1;32m    671\u001b[0m         \u001b[0mself\u001b[0m\u001b[0;34m.\u001b[0m\u001b[0m_validate_transformers\u001b[0m\u001b[0;34m(\u001b[0m\u001b[0;34m)\u001b[0m\u001b[0;34m\u001b[0m\u001b[0;34m\u001b[0m\u001b[0m\n\u001b[0;32m--> 672\u001b[0;31m         \u001b[0mself\u001b[0m\u001b[0;34m.\u001b[0m\u001b[0m_validate_column_callables\u001b[0m\u001b[0;34m(\u001b[0m\u001b[0mX\u001b[0m\u001b[0;34m)\u001b[0m\u001b[0;34m\u001b[0m\u001b[0;34m\u001b[0m\u001b[0m\n\u001b[0m\u001b[1;32m    673\u001b[0m         \u001b[0mself\u001b[0m\u001b[0;34m.\u001b[0m\u001b[0m_validate_remainder\u001b[0m\u001b[0;34m(\u001b[0m\u001b[0mX\u001b[0m\u001b[0;34m)\u001b[0m\u001b[0;34m\u001b[0m\u001b[0;34m\u001b[0m\u001b[0m\n\u001b[1;32m    674\u001b[0m \u001b[0;34m\u001b[0m\u001b[0m\n",
      "\u001b[0;32m/opt/anaconda3/lib/python3.9/site-packages/sklearn/compose/_column_transformer.py\u001b[0m in \u001b[0;36m_validate_column_callables\u001b[0;34m(self, X)\u001b[0m\n\u001b[1;32m    350\u001b[0m                 \u001b[0mcolumns\u001b[0m \u001b[0;34m=\u001b[0m \u001b[0mcolumns\u001b[0m\u001b[0;34m(\u001b[0m\u001b[0mX\u001b[0m\u001b[0;34m)\u001b[0m\u001b[0;34m\u001b[0m\u001b[0;34m\u001b[0m\u001b[0m\n\u001b[1;32m    351\u001b[0m             \u001b[0mall_columns\u001b[0m\u001b[0;34m.\u001b[0m\u001b[0mappend\u001b[0m\u001b[0;34m(\u001b[0m\u001b[0mcolumns\u001b[0m\u001b[0;34m)\u001b[0m\u001b[0;34m\u001b[0m\u001b[0;34m\u001b[0m\u001b[0m\n\u001b[0;32m--> 352\u001b[0;31m             \u001b[0mtransformer_to_input_indices\u001b[0m\u001b[0;34m[\u001b[0m\u001b[0mname\u001b[0m\u001b[0;34m]\u001b[0m \u001b[0;34m=\u001b[0m \u001b[0m_get_column_indices\u001b[0m\u001b[0;34m(\u001b[0m\u001b[0mX\u001b[0m\u001b[0;34m,\u001b[0m \u001b[0mcolumns\u001b[0m\u001b[0;34m)\u001b[0m\u001b[0;34m\u001b[0m\u001b[0;34m\u001b[0m\u001b[0m\n\u001b[0m\u001b[1;32m    353\u001b[0m \u001b[0;34m\u001b[0m\u001b[0m\n\u001b[1;32m    354\u001b[0m         \u001b[0mself\u001b[0m\u001b[0;34m.\u001b[0m\u001b[0m_columns\u001b[0m \u001b[0;34m=\u001b[0m \u001b[0mall_columns\u001b[0m\u001b[0;34m\u001b[0m\u001b[0;34m\u001b[0m\u001b[0m\n",
      "\u001b[0;32m/opt/anaconda3/lib/python3.9/site-packages/sklearn/utils/__init__.py\u001b[0m in \u001b[0;36m_get_column_indices\u001b[0;34m(X, key)\u001b[0m\n\u001b[1;32m    439\u001b[0m \u001b[0;34m\u001b[0m\u001b[0m\n\u001b[1;32m    440\u001b[0m         \u001b[0;32mexcept\u001b[0m \u001b[0mKeyError\u001b[0m \u001b[0;32mas\u001b[0m \u001b[0me\u001b[0m\u001b[0;34m:\u001b[0m\u001b[0;34m\u001b[0m\u001b[0;34m\u001b[0m\u001b[0m\n\u001b[0;32m--> 441\u001b[0;31m             \u001b[0;32mraise\u001b[0m \u001b[0mValueError\u001b[0m\u001b[0;34m(\u001b[0m\u001b[0;34m\"A given column is not a column of the dataframe\"\u001b[0m\u001b[0;34m)\u001b[0m \u001b[0;32mfrom\u001b[0m \u001b[0me\u001b[0m\u001b[0;34m\u001b[0m\u001b[0;34m\u001b[0m\u001b[0m\n\u001b[0m\u001b[1;32m    442\u001b[0m \u001b[0;34m\u001b[0m\u001b[0m\n\u001b[1;32m    443\u001b[0m         \u001b[0;32mreturn\u001b[0m \u001b[0mcolumn_indices\u001b[0m\u001b[0;34m\u001b[0m\u001b[0;34m\u001b[0m\u001b[0m\n",
      "\u001b[0;31mValueError\u001b[0m: A given column is not a column of the dataframe"
     ]
    }
   ],
   "source": [
    "data_normalized = preprocessor.fit_transform(data_ok)\n",
    "data_normalized = pd.DataFrame(data_normalized, columns=[\"review_score\",\n",
    "                                                         \"customer_city\",\n",
    "                                                         \"product_category_name\",\n",
    "                                                         \"Frequency\",\n",
    "                                                         \"Recency\",\n",
    "                                                         \"nb_days_before_delivered\",\n",
    "                                                         \"MonetaryValue\"])"
   ]
  },
  {
   "cell_type": "code",
   "execution_count": null,
   "id": "ab50bf4b-5914-4727-b4b3-e10219782e32",
   "metadata": {},
   "outputs": [],
   "source": [
    "kprototype = KPrototypes(n_jobs=-1,\n",
    "                         n_clusters=4,\n",
    "                         init='Huang',\n",
    "                         random_state=42)\n",
    "kprototype.fit_predict(dfMatrix,\n",
    "                       categorical=catColumnsPos)"
   ]
  },
  {
   "cell_type": "code",
   "execution_count": null,
   "id": "3e38a2f8-f6c1-4dff-a990-9e7e3680a572",
   "metadata": {},
   "outputs": [],
   "source": []
  }
 ],
 "metadata": {
  "kernelspec": {
   "display_name": "Python 3 (ipykernel)",
   "language": "python",
   "name": "python3"
  },
  "language_info": {
   "codemirror_mode": {
    "name": "ipython",
    "version": 3
   },
   "file_extension": ".py",
   "mimetype": "text/x-python",
   "name": "python",
   "nbconvert_exporter": "python",
   "pygments_lexer": "ipython3",
   "version": "3.9.7"
  }
 },
 "nbformat": 4,
 "nbformat_minor": 5
}
